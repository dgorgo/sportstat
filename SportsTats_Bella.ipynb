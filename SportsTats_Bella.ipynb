{
 "cells": [
  {
   "cell_type": "markdown",
   "id": "1f1e5ecb-0fd5-47be-b375-3f4d53fbe51e",
   "metadata": {},
   "source": [
    "##### Module imports"
   ]
  },
  {
   "cell_type": "code",
   "execution_count": 1,
   "id": "651e9c04",
   "metadata": {},
   "outputs": [],
   "source": [
    "import numpy as np\n",
    "import pandas as pd\n",
    "import matplotlib.pyplot as plt\n",
    "import seaborn as sns\n",
    "\n",
    "from scipy import stats\n",
    "import scipy.signal as signal\n",
    "from sklearn.preprocessing import StandardScaler\n",
    "from sklearn.preprocessing import MinMaxScaler\n",
    "\n",
    "\n",
    "from sklearn.model_selection import train_test_split\n",
    "from sklearn.linear_model import LinearRegression\n",
    "from sklearn.metrics import mean_squared_error, mean_absolute_error, r2_score"
   ]
  },
  {
   "cell_type": "markdown",
   "id": "e63c14c3-5105-4f2e-ba97-01611b3e5cd6",
   "metadata": {},
   "source": [
    "##### Load Data"
   ]
  },
  {
   "cell_type": "code",
   "execution_count": 2,
   "id": "5115fb80",
   "metadata": {},
   "outputs": [],
   "source": [
    "sports_df = pd.read_csv('athlete_events.csv')"
   ]
  },
  {
   "cell_type": "code",
   "execution_count": 3,
   "id": "a4c529ad",
   "metadata": {},
   "outputs": [],
   "source": [
    "noc = pd.read_csv('noc_regions.csv')"
   ]
  },
  {
   "cell_type": "code",
   "execution_count": 4,
   "id": "0ab4285c",
   "metadata": {
    "slideshow": {
     "slide_type": ""
    },
    "tags": []
   },
   "outputs": [
    {
     "data": {
      "text/html": [
       "<div>\n",
       "<style scoped>\n",
       "    .dataframe tbody tr th:only-of-type {\n",
       "        vertical-align: middle;\n",
       "    }\n",
       "\n",
       "    .dataframe tbody tr th {\n",
       "        vertical-align: top;\n",
       "    }\n",
       "\n",
       "    .dataframe thead th {\n",
       "        text-align: right;\n",
       "    }\n",
       "</style>\n",
       "<table border=\"1\" class=\"dataframe\">\n",
       "  <thead>\n",
       "    <tr style=\"text-align: right;\">\n",
       "      <th></th>\n",
       "      <th>ID</th>\n",
       "      <th>Name</th>\n",
       "      <th>Sex</th>\n",
       "      <th>Age</th>\n",
       "      <th>Height</th>\n",
       "      <th>Weight</th>\n",
       "      <th>Team</th>\n",
       "      <th>NOC</th>\n",
       "      <th>Games</th>\n",
       "      <th>Year</th>\n",
       "      <th>Season</th>\n",
       "      <th>City</th>\n",
       "      <th>Sport</th>\n",
       "      <th>Event</th>\n",
       "      <th>Medal</th>\n",
       "    </tr>\n",
       "  </thead>\n",
       "  <tbody>\n",
       "    <tr>\n",
       "      <th>0</th>\n",
       "      <td>1</td>\n",
       "      <td>A Dijiang</td>\n",
       "      <td>M</td>\n",
       "      <td>24.0</td>\n",
       "      <td>180.0</td>\n",
       "      <td>80.0</td>\n",
       "      <td>China</td>\n",
       "      <td>CHN</td>\n",
       "      <td>1992 Summer</td>\n",
       "      <td>1992</td>\n",
       "      <td>Summer</td>\n",
       "      <td>Barcelona</td>\n",
       "      <td>Basketball</td>\n",
       "      <td>Basketball Men's Basketball</td>\n",
       "      <td>NaN</td>\n",
       "    </tr>\n",
       "    <tr>\n",
       "      <th>1</th>\n",
       "      <td>2</td>\n",
       "      <td>A Lamusi</td>\n",
       "      <td>M</td>\n",
       "      <td>23.0</td>\n",
       "      <td>170.0</td>\n",
       "      <td>60.0</td>\n",
       "      <td>China</td>\n",
       "      <td>CHN</td>\n",
       "      <td>2012 Summer</td>\n",
       "      <td>2012</td>\n",
       "      <td>Summer</td>\n",
       "      <td>London</td>\n",
       "      <td>Judo</td>\n",
       "      <td>Judo Men's Extra-Lightweight</td>\n",
       "      <td>NaN</td>\n",
       "    </tr>\n",
       "    <tr>\n",
       "      <th>2</th>\n",
       "      <td>3</td>\n",
       "      <td>Gunnar Nielsen Aaby</td>\n",
       "      <td>M</td>\n",
       "      <td>24.0</td>\n",
       "      <td>NaN</td>\n",
       "      <td>NaN</td>\n",
       "      <td>Denmark</td>\n",
       "      <td>DEN</td>\n",
       "      <td>1920 Summer</td>\n",
       "      <td>1920</td>\n",
       "      <td>Summer</td>\n",
       "      <td>Antwerpen</td>\n",
       "      <td>Football</td>\n",
       "      <td>Football Men's Football</td>\n",
       "      <td>NaN</td>\n",
       "    </tr>\n",
       "    <tr>\n",
       "      <th>3</th>\n",
       "      <td>4</td>\n",
       "      <td>Edgar Lindenau Aabye</td>\n",
       "      <td>M</td>\n",
       "      <td>34.0</td>\n",
       "      <td>NaN</td>\n",
       "      <td>NaN</td>\n",
       "      <td>Denmark/Sweden</td>\n",
       "      <td>DEN</td>\n",
       "      <td>1900 Summer</td>\n",
       "      <td>1900</td>\n",
       "      <td>Summer</td>\n",
       "      <td>Paris</td>\n",
       "      <td>Tug-Of-War</td>\n",
       "      <td>Tug-Of-War Men's Tug-Of-War</td>\n",
       "      <td>Gold</td>\n",
       "    </tr>\n",
       "    <tr>\n",
       "      <th>4</th>\n",
       "      <td>5</td>\n",
       "      <td>Christine Jacoba Aaftink</td>\n",
       "      <td>F</td>\n",
       "      <td>21.0</td>\n",
       "      <td>185.0</td>\n",
       "      <td>82.0</td>\n",
       "      <td>Netherlands</td>\n",
       "      <td>NED</td>\n",
       "      <td>1988 Winter</td>\n",
       "      <td>1988</td>\n",
       "      <td>Winter</td>\n",
       "      <td>Calgary</td>\n",
       "      <td>Speed Skating</td>\n",
       "      <td>Speed Skating Women's 500 metres</td>\n",
       "      <td>NaN</td>\n",
       "    </tr>\n",
       "  </tbody>\n",
       "</table>\n",
       "</div>"
      ],
      "text/plain": [
       "   ID                      Name Sex   Age  Height  Weight            Team  \\\n",
       "0   1                 A Dijiang   M  24.0   180.0    80.0           China   \n",
       "1   2                  A Lamusi   M  23.0   170.0    60.0           China   \n",
       "2   3       Gunnar Nielsen Aaby   M  24.0     NaN     NaN         Denmark   \n",
       "3   4      Edgar Lindenau Aabye   M  34.0     NaN     NaN  Denmark/Sweden   \n",
       "4   5  Christine Jacoba Aaftink   F  21.0   185.0    82.0     Netherlands   \n",
       "\n",
       "   NOC        Games  Year  Season       City          Sport  \\\n",
       "0  CHN  1992 Summer  1992  Summer  Barcelona     Basketball   \n",
       "1  CHN  2012 Summer  2012  Summer     London           Judo   \n",
       "2  DEN  1920 Summer  1920  Summer  Antwerpen       Football   \n",
       "3  DEN  1900 Summer  1900  Summer      Paris     Tug-Of-War   \n",
       "4  NED  1988 Winter  1988  Winter    Calgary  Speed Skating   \n",
       "\n",
       "                              Event Medal  \n",
       "0       Basketball Men's Basketball   NaN  \n",
       "1      Judo Men's Extra-Lightweight   NaN  \n",
       "2           Football Men's Football   NaN  \n",
       "3       Tug-Of-War Men's Tug-Of-War  Gold  \n",
       "4  Speed Skating Women's 500 metres   NaN  "
      ]
     },
     "execution_count": 4,
     "metadata": {},
     "output_type": "execute_result"
    }
   ],
   "source": [
    "sports_df.head()"
   ]
  },
  {
   "cell_type": "code",
   "execution_count": 5,
   "id": "c29601e6",
   "metadata": {},
   "outputs": [
    {
     "data": {
      "text/html": [
       "<div>\n",
       "<style scoped>\n",
       "    .dataframe tbody tr th:only-of-type {\n",
       "        vertical-align: middle;\n",
       "    }\n",
       "\n",
       "    .dataframe tbody tr th {\n",
       "        vertical-align: top;\n",
       "    }\n",
       "\n",
       "    .dataframe thead th {\n",
       "        text-align: right;\n",
       "    }\n",
       "</style>\n",
       "<table border=\"1\" class=\"dataframe\">\n",
       "  <thead>\n",
       "    <tr style=\"text-align: right;\">\n",
       "      <th></th>\n",
       "      <th>NOC</th>\n",
       "      <th>region</th>\n",
       "      <th>notes</th>\n",
       "    </tr>\n",
       "  </thead>\n",
       "  <tbody>\n",
       "    <tr>\n",
       "      <th>0</th>\n",
       "      <td>AFG</td>\n",
       "      <td>Afghanistan</td>\n",
       "      <td>NaN</td>\n",
       "    </tr>\n",
       "    <tr>\n",
       "      <th>1</th>\n",
       "      <td>AHO</td>\n",
       "      <td>Curacao</td>\n",
       "      <td>Netherlands Antilles</td>\n",
       "    </tr>\n",
       "    <tr>\n",
       "      <th>2</th>\n",
       "      <td>ALB</td>\n",
       "      <td>Albania</td>\n",
       "      <td>NaN</td>\n",
       "    </tr>\n",
       "    <tr>\n",
       "      <th>3</th>\n",
       "      <td>ALG</td>\n",
       "      <td>Algeria</td>\n",
       "      <td>NaN</td>\n",
       "    </tr>\n",
       "    <tr>\n",
       "      <th>4</th>\n",
       "      <td>AND</td>\n",
       "      <td>Andorra</td>\n",
       "      <td>NaN</td>\n",
       "    </tr>\n",
       "  </tbody>\n",
       "</table>\n",
       "</div>"
      ],
      "text/plain": [
       "   NOC       region                 notes\n",
       "0  AFG  Afghanistan                   NaN\n",
       "1  AHO      Curacao  Netherlands Antilles\n",
       "2  ALB      Albania                   NaN\n",
       "3  ALG      Algeria                   NaN\n",
       "4  AND      Andorra                   NaN"
      ]
     },
     "execution_count": 5,
     "metadata": {},
     "output_type": "execute_result"
    }
   ],
   "source": [
    "noc.head()"
   ]
  },
  {
   "cell_type": "markdown",
   "id": "764ef785-6912-437b-ad2b-ae03aadc7593",
   "metadata": {},
   "source": [
    "##### Assessing Data "
   ]
  },
  {
   "cell_type": "code",
   "execution_count": 6,
   "id": "9b30abe2",
   "metadata": {},
   "outputs": [
    {
     "data": {
      "text/plain": [
       "ID             0\n",
       "Name           0\n",
       "Sex            0\n",
       "Age         9474\n",
       "Height     60171\n",
       "Weight     62875\n",
       "Team           0\n",
       "NOC            0\n",
       "Games          0\n",
       "Year           0\n",
       "Season         0\n",
       "City           0\n",
       "Sport          0\n",
       "Event          0\n",
       "Medal     231333\n",
       "dtype: int64"
      ]
     },
     "execution_count": 6,
     "metadata": {},
     "output_type": "execute_result"
    }
   ],
   "source": [
    "# Check for null\n",
    "sports_df.isna().sum()"
   ]
  },
  {
   "cell_type": "code",
   "execution_count": 7,
   "id": "853b5d2f",
   "metadata": {},
   "outputs": [
    {
     "data": {
      "text/plain": [
       "4066740"
      ]
     },
     "execution_count": 7,
     "metadata": {},
     "output_type": "execute_result"
    }
   ],
   "source": [
    "sports_df.size"
   ]
  },
  {
   "cell_type": "code",
   "execution_count": 8,
   "id": "e0a97d26",
   "metadata": {},
   "outputs": [
    {
     "data": {
      "text/plain": [
       "(271116, 15)"
      ]
     },
     "execution_count": 8,
     "metadata": {},
     "output_type": "execute_result"
    }
   ],
   "source": [
    "sports_df.shape"
   ]
  },
  {
   "cell_type": "code",
   "execution_count": 9,
   "id": "4458964a",
   "metadata": {},
   "outputs": [
    {
     "data": {
      "text/plain": [
       "Index(['ID', 'Name', 'Sex', 'Age', 'Height', 'Weight', 'Team', 'NOC', 'Games',\n",
       "       'Year', 'Season', 'City', 'Sport', 'Event', 'Medal'],\n",
       "      dtype='object')"
      ]
     },
     "execution_count": 9,
     "metadata": {},
     "output_type": "execute_result"
    }
   ],
   "source": [
    "sports_df.columns"
   ]
  },
  {
   "cell_type": "markdown",
   "id": "634c0a65-5802-467c-b98f-0edee35f965b",
   "metadata": {},
   "source": [
    "##### Merging 'region' from noc_df with the main df and then further cleaning"
   ]
  },
  {
   "cell_type": "code",
   "execution_count": 10,
   "id": "f60c9008-41a7-4ee3-91be-fc3e88f1b10e",
   "metadata": {},
   "outputs": [],
   "source": [
    "# Merge 'noc' DataFrame with 'sports_df' on the 'NOC' column\n",
    "\n",
    "sports_data = sports_df.merge(noc, on='NOC', how='left')"
   ]
  },
  {
   "cell_type": "code",
   "execution_count": 11,
   "id": "28254870-cd2a-460d-8840-eef892b38e09",
   "metadata": {},
   "outputs": [],
   "source": [
    "# Drop the 'ID' and 'notes' column from 'sports_df'\n",
    "columns_to_drop = ['ID', 'notes']\n",
    "sports_data.drop(columns_to_drop, axis=1, inplace=True)"
   ]
  },
  {
   "cell_type": "code",
   "execution_count": 12,
   "id": "58167d00-ff54-48e1-ada2-d15e151eaccf",
   "metadata": {},
   "outputs": [
    {
     "data": {
      "text/html": [
       "<div>\n",
       "<style scoped>\n",
       "    .dataframe tbody tr th:only-of-type {\n",
       "        vertical-align: middle;\n",
       "    }\n",
       "\n",
       "    .dataframe tbody tr th {\n",
       "        vertical-align: top;\n",
       "    }\n",
       "\n",
       "    .dataframe thead th {\n",
       "        text-align: right;\n",
       "    }\n",
       "</style>\n",
       "<table border=\"1\" class=\"dataframe\">\n",
       "  <thead>\n",
       "    <tr style=\"text-align: right;\">\n",
       "      <th></th>\n",
       "      <th>Name</th>\n",
       "      <th>Sex</th>\n",
       "      <th>Age</th>\n",
       "      <th>Height</th>\n",
       "      <th>Weight</th>\n",
       "      <th>Team</th>\n",
       "      <th>NOC</th>\n",
       "      <th>Games</th>\n",
       "      <th>Year</th>\n",
       "      <th>Season</th>\n",
       "      <th>City</th>\n",
       "      <th>Sport</th>\n",
       "      <th>Event</th>\n",
       "      <th>Medal</th>\n",
       "      <th>region</th>\n",
       "    </tr>\n",
       "  </thead>\n",
       "  <tbody>\n",
       "    <tr>\n",
       "      <th>0</th>\n",
       "      <td>A Dijiang</td>\n",
       "      <td>M</td>\n",
       "      <td>24.0</td>\n",
       "      <td>180.0</td>\n",
       "      <td>80.0</td>\n",
       "      <td>China</td>\n",
       "      <td>CHN</td>\n",
       "      <td>1992 Summer</td>\n",
       "      <td>1992</td>\n",
       "      <td>Summer</td>\n",
       "      <td>Barcelona</td>\n",
       "      <td>Basketball</td>\n",
       "      <td>Basketball Men's Basketball</td>\n",
       "      <td>NaN</td>\n",
       "      <td>China</td>\n",
       "    </tr>\n",
       "    <tr>\n",
       "      <th>1</th>\n",
       "      <td>A Lamusi</td>\n",
       "      <td>M</td>\n",
       "      <td>23.0</td>\n",
       "      <td>170.0</td>\n",
       "      <td>60.0</td>\n",
       "      <td>China</td>\n",
       "      <td>CHN</td>\n",
       "      <td>2012 Summer</td>\n",
       "      <td>2012</td>\n",
       "      <td>Summer</td>\n",
       "      <td>London</td>\n",
       "      <td>Judo</td>\n",
       "      <td>Judo Men's Extra-Lightweight</td>\n",
       "      <td>NaN</td>\n",
       "      <td>China</td>\n",
       "    </tr>\n",
       "    <tr>\n",
       "      <th>2</th>\n",
       "      <td>Gunnar Nielsen Aaby</td>\n",
       "      <td>M</td>\n",
       "      <td>24.0</td>\n",
       "      <td>NaN</td>\n",
       "      <td>NaN</td>\n",
       "      <td>Denmark</td>\n",
       "      <td>DEN</td>\n",
       "      <td>1920 Summer</td>\n",
       "      <td>1920</td>\n",
       "      <td>Summer</td>\n",
       "      <td>Antwerpen</td>\n",
       "      <td>Football</td>\n",
       "      <td>Football Men's Football</td>\n",
       "      <td>NaN</td>\n",
       "      <td>Denmark</td>\n",
       "    </tr>\n",
       "  </tbody>\n",
       "</table>\n",
       "</div>"
      ],
      "text/plain": [
       "                  Name Sex   Age  Height  Weight     Team  NOC        Games  \\\n",
       "0            A Dijiang   M  24.0   180.0    80.0    China  CHN  1992 Summer   \n",
       "1             A Lamusi   M  23.0   170.0    60.0    China  CHN  2012 Summer   \n",
       "2  Gunnar Nielsen Aaby   M  24.0     NaN     NaN  Denmark  DEN  1920 Summer   \n",
       "\n",
       "   Year  Season       City       Sport                         Event Medal  \\\n",
       "0  1992  Summer  Barcelona  Basketball   Basketball Men's Basketball   NaN   \n",
       "1  2012  Summer     London        Judo  Judo Men's Extra-Lightweight   NaN   \n",
       "2  1920  Summer  Antwerpen    Football       Football Men's Football   NaN   \n",
       "\n",
       "    region  \n",
       "0    China  \n",
       "1    China  \n",
       "2  Denmark  "
      ]
     },
     "execution_count": 12,
     "metadata": {},
     "output_type": "execute_result"
    }
   ],
   "source": [
    "sports_data.head(3)"
   ]
  },
  {
   "cell_type": "code",
   "execution_count": 13,
   "id": "fb25f731-8f85-48c6-8f80-dcb72e56d490",
   "metadata": {},
   "outputs": [],
   "source": [
    "# Rename the 'NOC' column to 'country_abbrv'\n",
    "sports_data.rename(columns={'NOC': 'country_abbrv'}, inplace=True)"
   ]
  },
  {
   "cell_type": "markdown",
   "id": "86ca3a26",
   "metadata": {},
   "source": [
    "##### Handling mising Data and further cleaning"
   ]
  },
  {
   "cell_type": "code",
   "execution_count": 14,
   "id": "c092a036",
   "metadata": {},
   "outputs": [],
   "source": [
    "# fill the missing columns with the mean of each column"
   ]
  },
  {
   "cell_type": "code",
   "execution_count": 15,
   "id": "cf0f0a40",
   "metadata": {},
   "outputs": [],
   "source": [
    "sports_df1 = sports_data.copy() "
   ]
  },
  {
   "cell_type": "code",
   "execution_count": 16,
   "id": "c0c0f7fa",
   "metadata": {},
   "outputs": [],
   "source": [
    "sports_df1['Age'].fillna(sports_df1['Age'].mean(), inplace=True)\n",
    "sports_df1['Height'].fillna(sports_df1['Height'].mean(), inplace=True)\n",
    "sports_df1['Weight'].fillna(sports_df1['Weight'].mean(), inplace=True)"
   ]
  },
  {
   "cell_type": "code",
   "execution_count": 17,
   "id": "4af9a8d4",
   "metadata": {},
   "outputs": [
    {
     "data": {
      "text/plain": [
       "Name                  0\n",
       "Sex                   0\n",
       "Age                   0\n",
       "Height                0\n",
       "Weight                0\n",
       "Team                  0\n",
       "country_abbrv         0\n",
       "Games                 0\n",
       "Year                  0\n",
       "Season                0\n",
       "City                  0\n",
       "Sport                 0\n",
       "Event                 0\n",
       "Medal            231333\n",
       "region              370\n",
       "dtype: int64"
      ]
     },
     "execution_count": 17,
     "metadata": {},
     "output_type": "execute_result"
    }
   ],
   "source": [
    "sports_df1.isna().sum()"
   ]
  },
  {
   "cell_type": "code",
   "execution_count": 18,
   "id": "b1bddd0a-fb55-49d5-87b6-caf165b308f4",
   "metadata": {},
   "outputs": [],
   "source": [
    "# turn age to integer\n",
    "# height and weight, we can leave as float \n",
    "\n",
    "sports_df1['Age'] = sports_df1['Age'].astype(int)"
   ]
  },
  {
   "cell_type": "code",
   "execution_count": 19,
   "id": "563eb96d",
   "metadata": {},
   "outputs": [],
   "source": [
    "# replace null value in 'medal' with 'No Medal'\n",
    "\n",
    "\n",
    "sports_df1['Medal'].fillna('No Medal', inplace=True)"
   ]
  },
  {
   "cell_type": "code",
   "execution_count": 20,
   "id": "2bfd8cba-735a-43f9-a8c9-f574c5291d6f",
   "metadata": {},
   "outputs": [],
   "source": [
    "# Format the 'Height' and 'Weight' columns to two decimal points\n",
    "sports_df1['Height'] = sports_df1['Height'].round(2)\n",
    "sports_df1['Weight'] = sports_df1['Weight'].round(2)"
   ]
  },
  {
   "cell_type": "code",
   "execution_count": 21,
   "id": "8a3aa93d-cecd-48ee-89e6-dc4408e1da4e",
   "metadata": {},
   "outputs": [
    {
     "data": {
      "text/html": [
       "<div>\n",
       "<style scoped>\n",
       "    .dataframe tbody tr th:only-of-type {\n",
       "        vertical-align: middle;\n",
       "    }\n",
       "\n",
       "    .dataframe tbody tr th {\n",
       "        vertical-align: top;\n",
       "    }\n",
       "\n",
       "    .dataframe thead th {\n",
       "        text-align: right;\n",
       "    }\n",
       "</style>\n",
       "<table border=\"1\" class=\"dataframe\">\n",
       "  <thead>\n",
       "    <tr style=\"text-align: right;\">\n",
       "      <th></th>\n",
       "      <th>Name</th>\n",
       "      <th>Sex</th>\n",
       "      <th>Age</th>\n",
       "      <th>Height</th>\n",
       "      <th>Weight</th>\n",
       "      <th>Team</th>\n",
       "      <th>country_abbrv</th>\n",
       "      <th>Games</th>\n",
       "      <th>Year</th>\n",
       "      <th>Season</th>\n",
       "      <th>City</th>\n",
       "      <th>Sport</th>\n",
       "      <th>Event</th>\n",
       "      <th>Medal</th>\n",
       "      <th>region</th>\n",
       "    </tr>\n",
       "  </thead>\n",
       "  <tbody>\n",
       "    <tr>\n",
       "      <th>0</th>\n",
       "      <td>A Dijiang</td>\n",
       "      <td>M</td>\n",
       "      <td>24</td>\n",
       "      <td>180.00</td>\n",
       "      <td>80.0</td>\n",
       "      <td>China</td>\n",
       "      <td>CHN</td>\n",
       "      <td>1992 Summer</td>\n",
       "      <td>1992</td>\n",
       "      <td>Summer</td>\n",
       "      <td>Barcelona</td>\n",
       "      <td>Basketball</td>\n",
       "      <td>Basketball Men's Basketball</td>\n",
       "      <td>No Medal</td>\n",
       "      <td>China</td>\n",
       "    </tr>\n",
       "    <tr>\n",
       "      <th>1</th>\n",
       "      <td>A Lamusi</td>\n",
       "      <td>M</td>\n",
       "      <td>23</td>\n",
       "      <td>170.00</td>\n",
       "      <td>60.0</td>\n",
       "      <td>China</td>\n",
       "      <td>CHN</td>\n",
       "      <td>2012 Summer</td>\n",
       "      <td>2012</td>\n",
       "      <td>Summer</td>\n",
       "      <td>London</td>\n",
       "      <td>Judo</td>\n",
       "      <td>Judo Men's Extra-Lightweight</td>\n",
       "      <td>No Medal</td>\n",
       "      <td>China</td>\n",
       "    </tr>\n",
       "    <tr>\n",
       "      <th>2</th>\n",
       "      <td>Gunnar Nielsen Aaby</td>\n",
       "      <td>M</td>\n",
       "      <td>24</td>\n",
       "      <td>175.34</td>\n",
       "      <td>70.7</td>\n",
       "      <td>Denmark</td>\n",
       "      <td>DEN</td>\n",
       "      <td>1920 Summer</td>\n",
       "      <td>1920</td>\n",
       "      <td>Summer</td>\n",
       "      <td>Antwerpen</td>\n",
       "      <td>Football</td>\n",
       "      <td>Football Men's Football</td>\n",
       "      <td>No Medal</td>\n",
       "      <td>Denmark</td>\n",
       "    </tr>\n",
       "    <tr>\n",
       "      <th>3</th>\n",
       "      <td>Edgar Lindenau Aabye</td>\n",
       "      <td>M</td>\n",
       "      <td>34</td>\n",
       "      <td>175.34</td>\n",
       "      <td>70.7</td>\n",
       "      <td>Denmark/Sweden</td>\n",
       "      <td>DEN</td>\n",
       "      <td>1900 Summer</td>\n",
       "      <td>1900</td>\n",
       "      <td>Summer</td>\n",
       "      <td>Paris</td>\n",
       "      <td>Tug-Of-War</td>\n",
       "      <td>Tug-Of-War Men's Tug-Of-War</td>\n",
       "      <td>Gold</td>\n",
       "      <td>Denmark</td>\n",
       "    </tr>\n",
       "    <tr>\n",
       "      <th>4</th>\n",
       "      <td>Christine Jacoba Aaftink</td>\n",
       "      <td>F</td>\n",
       "      <td>21</td>\n",
       "      <td>185.00</td>\n",
       "      <td>82.0</td>\n",
       "      <td>Netherlands</td>\n",
       "      <td>NED</td>\n",
       "      <td>1988 Winter</td>\n",
       "      <td>1988</td>\n",
       "      <td>Winter</td>\n",
       "      <td>Calgary</td>\n",
       "      <td>Speed Skating</td>\n",
       "      <td>Speed Skating Women's 500 metres</td>\n",
       "      <td>No Medal</td>\n",
       "      <td>Netherlands</td>\n",
       "    </tr>\n",
       "    <tr>\n",
       "      <th>...</th>\n",
       "      <td>...</td>\n",
       "      <td>...</td>\n",
       "      <td>...</td>\n",
       "      <td>...</td>\n",
       "      <td>...</td>\n",
       "      <td>...</td>\n",
       "      <td>...</td>\n",
       "      <td>...</td>\n",
       "      <td>...</td>\n",
       "      <td>...</td>\n",
       "      <td>...</td>\n",
       "      <td>...</td>\n",
       "      <td>...</td>\n",
       "      <td>...</td>\n",
       "      <td>...</td>\n",
       "    </tr>\n",
       "    <tr>\n",
       "      <th>271111</th>\n",
       "      <td>Andrzej ya</td>\n",
       "      <td>M</td>\n",
       "      <td>29</td>\n",
       "      <td>179.00</td>\n",
       "      <td>89.0</td>\n",
       "      <td>Poland-1</td>\n",
       "      <td>POL</td>\n",
       "      <td>1976 Winter</td>\n",
       "      <td>1976</td>\n",
       "      <td>Winter</td>\n",
       "      <td>Innsbruck</td>\n",
       "      <td>Luge</td>\n",
       "      <td>Luge Mixed (Men)'s Doubles</td>\n",
       "      <td>No Medal</td>\n",
       "      <td>Poland</td>\n",
       "    </tr>\n",
       "    <tr>\n",
       "      <th>271112</th>\n",
       "      <td>Piotr ya</td>\n",
       "      <td>M</td>\n",
       "      <td>27</td>\n",
       "      <td>176.00</td>\n",
       "      <td>59.0</td>\n",
       "      <td>Poland</td>\n",
       "      <td>POL</td>\n",
       "      <td>2014 Winter</td>\n",
       "      <td>2014</td>\n",
       "      <td>Winter</td>\n",
       "      <td>Sochi</td>\n",
       "      <td>Ski Jumping</td>\n",
       "      <td>Ski Jumping Men's Large Hill, Individual</td>\n",
       "      <td>No Medal</td>\n",
       "      <td>Poland</td>\n",
       "    </tr>\n",
       "    <tr>\n",
       "      <th>271113</th>\n",
       "      <td>Piotr ya</td>\n",
       "      <td>M</td>\n",
       "      <td>27</td>\n",
       "      <td>176.00</td>\n",
       "      <td>59.0</td>\n",
       "      <td>Poland</td>\n",
       "      <td>POL</td>\n",
       "      <td>2014 Winter</td>\n",
       "      <td>2014</td>\n",
       "      <td>Winter</td>\n",
       "      <td>Sochi</td>\n",
       "      <td>Ski Jumping</td>\n",
       "      <td>Ski Jumping Men's Large Hill, Team</td>\n",
       "      <td>No Medal</td>\n",
       "      <td>Poland</td>\n",
       "    </tr>\n",
       "    <tr>\n",
       "      <th>271114</th>\n",
       "      <td>Tomasz Ireneusz ya</td>\n",
       "      <td>M</td>\n",
       "      <td>30</td>\n",
       "      <td>185.00</td>\n",
       "      <td>96.0</td>\n",
       "      <td>Poland</td>\n",
       "      <td>POL</td>\n",
       "      <td>1998 Winter</td>\n",
       "      <td>1998</td>\n",
       "      <td>Winter</td>\n",
       "      <td>Nagano</td>\n",
       "      <td>Bobsleigh</td>\n",
       "      <td>Bobsleigh Men's Four</td>\n",
       "      <td>No Medal</td>\n",
       "      <td>Poland</td>\n",
       "    </tr>\n",
       "    <tr>\n",
       "      <th>271115</th>\n",
       "      <td>Tomasz Ireneusz ya</td>\n",
       "      <td>M</td>\n",
       "      <td>34</td>\n",
       "      <td>185.00</td>\n",
       "      <td>96.0</td>\n",
       "      <td>Poland</td>\n",
       "      <td>POL</td>\n",
       "      <td>2002 Winter</td>\n",
       "      <td>2002</td>\n",
       "      <td>Winter</td>\n",
       "      <td>Salt Lake City</td>\n",
       "      <td>Bobsleigh</td>\n",
       "      <td>Bobsleigh Men's Four</td>\n",
       "      <td>No Medal</td>\n",
       "      <td>Poland</td>\n",
       "    </tr>\n",
       "  </tbody>\n",
       "</table>\n",
       "<p>271116 rows × 15 columns</p>\n",
       "</div>"
      ],
      "text/plain": [
       "                            Name Sex  Age  Height  Weight            Team  \\\n",
       "0                      A Dijiang   M   24  180.00    80.0           China   \n",
       "1                       A Lamusi   M   23  170.00    60.0           China   \n",
       "2            Gunnar Nielsen Aaby   M   24  175.34    70.7         Denmark   \n",
       "3           Edgar Lindenau Aabye   M   34  175.34    70.7  Denmark/Sweden   \n",
       "4       Christine Jacoba Aaftink   F   21  185.00    82.0     Netherlands   \n",
       "...                          ...  ..  ...     ...     ...             ...   \n",
       "271111                Andrzej ya   M   29  179.00    89.0        Poland-1   \n",
       "271112                  Piotr ya   M   27  176.00    59.0          Poland   \n",
       "271113                  Piotr ya   M   27  176.00    59.0          Poland   \n",
       "271114        Tomasz Ireneusz ya   M   30  185.00    96.0          Poland   \n",
       "271115        Tomasz Ireneusz ya   M   34  185.00    96.0          Poland   \n",
       "\n",
       "       country_abbrv        Games  Year  Season            City  \\\n",
       "0                CHN  1992 Summer  1992  Summer       Barcelona   \n",
       "1                CHN  2012 Summer  2012  Summer          London   \n",
       "2                DEN  1920 Summer  1920  Summer       Antwerpen   \n",
       "3                DEN  1900 Summer  1900  Summer           Paris   \n",
       "4                NED  1988 Winter  1988  Winter         Calgary   \n",
       "...              ...          ...   ...     ...             ...   \n",
       "271111           POL  1976 Winter  1976  Winter       Innsbruck   \n",
       "271112           POL  2014 Winter  2014  Winter           Sochi   \n",
       "271113           POL  2014 Winter  2014  Winter           Sochi   \n",
       "271114           POL  1998 Winter  1998  Winter          Nagano   \n",
       "271115           POL  2002 Winter  2002  Winter  Salt Lake City   \n",
       "\n",
       "                Sport                                     Event     Medal  \\\n",
       "0          Basketball               Basketball Men's Basketball  No Medal   \n",
       "1                Judo              Judo Men's Extra-Lightweight  No Medal   \n",
       "2            Football                   Football Men's Football  No Medal   \n",
       "3          Tug-Of-War               Tug-Of-War Men's Tug-Of-War      Gold   \n",
       "4       Speed Skating          Speed Skating Women's 500 metres  No Medal   \n",
       "...               ...                                       ...       ...   \n",
       "271111           Luge                Luge Mixed (Men)'s Doubles  No Medal   \n",
       "271112    Ski Jumping  Ski Jumping Men's Large Hill, Individual  No Medal   \n",
       "271113    Ski Jumping        Ski Jumping Men's Large Hill, Team  No Medal   \n",
       "271114      Bobsleigh                      Bobsleigh Men's Four  No Medal   \n",
       "271115      Bobsleigh                      Bobsleigh Men's Four  No Medal   \n",
       "\n",
       "             region  \n",
       "0             China  \n",
       "1             China  \n",
       "2           Denmark  \n",
       "3           Denmark  \n",
       "4       Netherlands  \n",
       "...             ...  \n",
       "271111       Poland  \n",
       "271112       Poland  \n",
       "271113       Poland  \n",
       "271114       Poland  \n",
       "271115       Poland  \n",
       "\n",
       "[271116 rows x 15 columns]"
      ]
     },
     "execution_count": 21,
     "metadata": {},
     "output_type": "execute_result"
    }
   ],
   "source": [
    "sports_df1"
   ]
  },
  {
   "cell_type": "markdown",
   "id": "054605ca-7c4b-49cd-833d-ab91c3055fa3",
   "metadata": {},
   "source": [
    "##### Outliers"
   ]
  },
  {
   "cell_type": "code",
   "execution_count": 22,
   "id": "d68dfb3c",
   "metadata": {},
   "outputs": [
    {
     "name": "stdout",
     "output_type": "stream",
     "text": [
      "                 Age         Height         Weight\n",
      "count  271116.000000  271116.000000  271116.000000\n",
      "mean       25.537438     175.339198      70.701838\n",
      "std         6.281690       9.278100      12.574690\n",
      "min        10.000000     127.000000      25.000000\n",
      "25%        22.000000     170.000000      63.000000\n",
      "50%        25.000000     175.340000      70.700000\n",
      "75%        28.000000     180.000000      75.000000\n",
      "max        97.000000     226.000000     214.000000\n"
     ]
    }
   ],
   "source": [
    "#check for outliers\n",
    "\n",
    "# Specify the columns to check for outliers\n",
    "columns_to_check = [ 'Age', 'Height', 'Weight']\n",
    "\n",
    "df_outliers = sports_df1[columns_to_check].describe()\n",
    "print(df_outliers)"
   ]
  },
  {
   "cell_type": "code",
   "execution_count": 23,
   "id": "b1669c61",
   "metadata": {},
   "outputs": [
    {
     "data": {
      "image/png": "[encoded data removed]",
      "text/plain": [
       "<Figure size 800x600 with 3 Axes>"
      ]
     },
     "metadata": {},
     "output_type": "display_data"
    }
   ],
   "source": [
    "# Box plots\n",
    "fig, axs = plt.subplots(len(columns_to_check), figsize=(8, 6))\n",
    "\n",
    "for i, column in enumerate(columns_to_check):\n",
    "    axs[i].boxplot(sports_df1[column])\n",
    "    axs[i].set_ylabel(column)\n",
    "\n",
    "plt.tight_layout()\n",
    "plt.show()"
   ]
  },
  {
   "cell_type": "code",
   "execution_count": 24,
   "id": "6b7df1c3",
   "metadata": {},
   "outputs": [],
   "source": [
    "# Calculate z-scores for 'Age', 'Height', and 'Weight' columns\n",
    "z_scores = (sports_df1[['Age', 'Height', 'Weight']] - sports_df[['Age', 'Height', 'Weight']].mean()) / sports_df1[['Age', 'Height', 'Weight']].std()\n",
    "\n",
    "# Define threshold for outlier removal\n",
    "z_score_threshold = 3\n",
    "\n",
    "# Remove rows with outliers based on z-scores\n",
    "sports_df1 = sports_df1[(z_scores < z_score_threshold).all(axis=1)]"
   ]
  },
  {
   "cell_type": "code",
   "execution_count": 25,
   "id": "ad6b236d-10ac-48c8-bf41-f224787d3a87",
   "metadata": {},
   "outputs": [
    {
     "data": {
      "text/html": [
       "<div>\n",
       "<style scoped>\n",
       "    .dataframe tbody tr th:only-of-type {\n",
       "        vertical-align: middle;\n",
       "    }\n",
       "\n",
       "    .dataframe tbody tr th {\n",
       "        vertical-align: top;\n",
       "    }\n",
       "\n",
       "    .dataframe thead th {\n",
       "        text-align: right;\n",
       "    }\n",
       "</style>\n",
       "<table border=\"1\" class=\"dataframe\">\n",
       "  <thead>\n",
       "    <tr style=\"text-align: right;\">\n",
       "      <th></th>\n",
       "      <th>Name</th>\n",
       "      <th>Sex</th>\n",
       "      <th>Age</th>\n",
       "      <th>Height</th>\n",
       "      <th>Weight</th>\n",
       "      <th>Team</th>\n",
       "      <th>country_abbrv</th>\n",
       "      <th>Games</th>\n",
       "      <th>Year</th>\n",
       "      <th>Season</th>\n",
       "      <th>City</th>\n",
       "      <th>Sport</th>\n",
       "      <th>Event</th>\n",
       "      <th>Medal</th>\n",
       "      <th>region</th>\n",
       "    </tr>\n",
       "  </thead>\n",
       "  <tbody>\n",
       "    <tr>\n",
       "      <th>0</th>\n",
       "      <td>A Dijiang</td>\n",
       "      <td>M</td>\n",
       "      <td>24</td>\n",
       "      <td>180.00</td>\n",
       "      <td>80.0</td>\n",
       "      <td>China</td>\n",
       "      <td>CHN</td>\n",
       "      <td>1992 Summer</td>\n",
       "      <td>1992</td>\n",
       "      <td>Summer</td>\n",
       "      <td>Barcelona</td>\n",
       "      <td>Basketball</td>\n",
       "      <td>Basketball Men's Basketball</td>\n",
       "      <td>No Medal</td>\n",
       "      <td>China</td>\n",
       "    </tr>\n",
       "    <tr>\n",
       "      <th>1</th>\n",
       "      <td>A Lamusi</td>\n",
       "      <td>M</td>\n",
       "      <td>23</td>\n",
       "      <td>170.00</td>\n",
       "      <td>60.0</td>\n",
       "      <td>China</td>\n",
       "      <td>CHN</td>\n",
       "      <td>2012 Summer</td>\n",
       "      <td>2012</td>\n",
       "      <td>Summer</td>\n",
       "      <td>London</td>\n",
       "      <td>Judo</td>\n",
       "      <td>Judo Men's Extra-Lightweight</td>\n",
       "      <td>No Medal</td>\n",
       "      <td>China</td>\n",
       "    </tr>\n",
       "    <tr>\n",
       "      <th>2</th>\n",
       "      <td>Gunnar Nielsen Aaby</td>\n",
       "      <td>M</td>\n",
       "      <td>24</td>\n",
       "      <td>175.34</td>\n",
       "      <td>70.7</td>\n",
       "      <td>Denmark</td>\n",
       "      <td>DEN</td>\n",
       "      <td>1920 Summer</td>\n",
       "      <td>1920</td>\n",
       "      <td>Summer</td>\n",
       "      <td>Antwerpen</td>\n",
       "      <td>Football</td>\n",
       "      <td>Football Men's Football</td>\n",
       "      <td>No Medal</td>\n",
       "      <td>Denmark</td>\n",
       "    </tr>\n",
       "    <tr>\n",
       "      <th>3</th>\n",
       "      <td>Edgar Lindenau Aabye</td>\n",
       "      <td>M</td>\n",
       "      <td>34</td>\n",
       "      <td>175.34</td>\n",
       "      <td>70.7</td>\n",
       "      <td>Denmark/Sweden</td>\n",
       "      <td>DEN</td>\n",
       "      <td>1900 Summer</td>\n",
       "      <td>1900</td>\n",
       "      <td>Summer</td>\n",
       "      <td>Paris</td>\n",
       "      <td>Tug-Of-War</td>\n",
       "      <td>Tug-Of-War Men's Tug-Of-War</td>\n",
       "      <td>Gold</td>\n",
       "      <td>Denmark</td>\n",
       "    </tr>\n",
       "    <tr>\n",
       "      <th>4</th>\n",
       "      <td>Christine Jacoba Aaftink</td>\n",
       "      <td>F</td>\n",
       "      <td>21</td>\n",
       "      <td>185.00</td>\n",
       "      <td>82.0</td>\n",
       "      <td>Netherlands</td>\n",
       "      <td>NED</td>\n",
       "      <td>1988 Winter</td>\n",
       "      <td>1988</td>\n",
       "      <td>Winter</td>\n",
       "      <td>Calgary</td>\n",
       "      <td>Speed Skating</td>\n",
       "      <td>Speed Skating Women's 500 metres</td>\n",
       "      <td>No Medal</td>\n",
       "      <td>Netherlands</td>\n",
       "    </tr>\n",
       "  </tbody>\n",
       "</table>\n",
       "</div>"
      ],
      "text/plain": [
       "                       Name Sex  Age  Height  Weight            Team  \\\n",
       "0                 A Dijiang   M   24  180.00    80.0           China   \n",
       "1                  A Lamusi   M   23  170.00    60.0           China   \n",
       "2       Gunnar Nielsen Aaby   M   24  175.34    70.7         Denmark   \n",
       "3      Edgar Lindenau Aabye   M   34  175.34    70.7  Denmark/Sweden   \n",
       "4  Christine Jacoba Aaftink   F   21  185.00    82.0     Netherlands   \n",
       "\n",
       "  country_abbrv        Games  Year  Season       City          Sport  \\\n",
       "0           CHN  1992 Summer  1992  Summer  Barcelona     Basketball   \n",
       "1           CHN  2012 Summer  2012  Summer     London           Judo   \n",
       "2           DEN  1920 Summer  1920  Summer  Antwerpen       Football   \n",
       "3           DEN  1900 Summer  1900  Summer      Paris     Tug-Of-War   \n",
       "4           NED  1988 Winter  1988  Winter    Calgary  Speed Skating   \n",
       "\n",
       "                              Event     Medal       region  \n",
       "0       Basketball Men's Basketball  No Medal        China  \n",
       "1      Judo Men's Extra-Lightweight  No Medal        China  \n",
       "2           Football Men's Football  No Medal      Denmark  \n",
       "3       Tug-Of-War Men's Tug-Of-War      Gold      Denmark  \n",
       "4  Speed Skating Women's 500 metres  No Medal  Netherlands  "
      ]
     },
     "execution_count": 25,
     "metadata": {},
     "output_type": "execute_result"
    }
   ],
   "source": [
    "sports_df1.head()"
   ]
  },
  {
   "cell_type": "code",
   "execution_count": 26,
   "id": "f6cff036-008a-4d05-afd4-06f9d391d7b2",
   "metadata": {},
   "outputs": [
    {
     "data": {
      "text/plain": [
       "(263100, 15)"
      ]
     },
     "execution_count": 26,
     "metadata": {},
     "output_type": "execute_result"
    }
   ],
   "source": [
    "sports_df1.shape"
   ]
  },
  {
   "cell_type": "code",
   "execution_count": 27,
   "id": "0881b7e6-5784-4255-bc2d-ddec8760aafc",
   "metadata": {},
   "outputs": [
    {
     "data": {
      "text/plain": [
       "0         24\n",
       "1         23\n",
       "2         24\n",
       "3         34\n",
       "4         21\n",
       "          ..\n",
       "271111    29\n",
       "271112    27\n",
       "271113    27\n",
       "271114    30\n",
       "271115    34\n",
       "Name: Age, Length: 263100, dtype: int32"
      ]
     },
     "execution_count": 27,
     "metadata": {},
     "output_type": "execute_result"
    }
   ],
   "source": [
    "sports_df1['Age']"
   ]
  },
  {
   "cell_type": "code",
   "execution_count": 28,
   "id": "7e8119cd-20a1-491f-873b-0c7ba23e18f0",
   "metadata": {},
   "outputs": [
    {
     "data": {
      "text/plain": [
       "0                      Basketball Men's Basketball\n",
       "1                     Judo Men's Extra-Lightweight\n",
       "2                          Football Men's Football\n",
       "3                      Tug-Of-War Men's Tug-Of-War\n",
       "4                 Speed Skating Women's 500 metres\n",
       "                            ...                   \n",
       "271111                  Luge Mixed (Men)'s Doubles\n",
       "271112    Ski Jumping Men's Large Hill, Individual\n",
       "271113          Ski Jumping Men's Large Hill, Team\n",
       "271114                        Bobsleigh Men's Four\n",
       "271115                        Bobsleigh Men's Four\n",
       "Name: Event, Length: 263100, dtype: object"
      ]
     },
     "execution_count": 28,
     "metadata": {},
     "output_type": "execute_result"
    }
   ],
   "source": [
    "sports_df1.Event"
   ]
  },
  {
   "cell_type": "code",
   "execution_count": 29,
   "id": "28288b4a-a801-4211-82a4-2f88c7fbb510",
   "metadata": {},
   "outputs": [],
   "source": [
    "unique_events = sports_df1['Event'].unique()\n",
    "#print(unique_events)"
   ]
  },
  {
   "cell_type": "code",
   "execution_count": 30,
   "id": "38393dd1-c983-4690-9e70-9c5fdce48837",
   "metadata": {},
   "outputs": [
    {
     "name": "stdout",
     "output_type": "stream",
     "text": [
      "['Basketball' 'Judo' 'Football' 'Tug-Of-War' 'Speed Skating'\n",
      " 'Cross Country Skiing' 'Athletics' 'Ice Hockey' 'Swimming' 'Badminton'\n",
      " 'Sailing' 'Biathlon' 'Gymnastics' 'Alpine Skiing' 'Handball' 'Wrestling'\n",
      " 'Luge' 'Water Polo' 'Hockey' 'Rowing' 'Bobsleigh' 'Fencing'\n",
      " 'Equestrianism' 'Shooting' 'Boxing' 'Taekwondo' 'Cycling' 'Weightlifting'\n",
      " 'Diving' 'Canoeing' 'Tennis' 'Modern Pentathlon' 'Figure Skating' 'Golf'\n",
      " 'Softball' 'Archery' 'Volleyball' 'Synchronized Swimming' 'Table Tennis'\n",
      " 'Nordic Combined' 'Baseball' 'Rhythmic Gymnastics' 'Freestyle Skiing'\n",
      " 'Rugby Sevens' 'Trampolining' 'Beach Volleyball' 'Triathlon'\n",
      " 'Art Competitions' 'Ski Jumping' 'Curling' 'Snowboarding' 'Rugby'\n",
      " 'Short Track Speed Skating' 'Skeleton' 'Lacrosse' 'Polo' 'Cricket'\n",
      " 'Racquets' 'Motorboating' 'Military Ski Patrol' 'Croquet' 'Jeu De Paume'\n",
      " 'Roque' 'Alpinism' 'Basque Pelota' 'Aeronautics']\n"
     ]
    }
   ],
   "source": [
    "unique_sports = sports_df1['Sport'].unique()\n",
    "print(unique_sports)"
   ]
  },
  {
   "cell_type": "code",
   "execution_count": 31,
   "id": "ac124f00-bbbc-4a7a-bd1f-5f28128818d5",
   "metadata": {},
   "outputs": [
    {
     "data": {
      "text/plain": [
       "Index(['Name', 'Sex', 'Age', 'Height', 'Weight', 'Team', 'country_abbrv',\n",
       "       'Games', 'Year', 'Season', 'City', 'Sport', 'Event', 'Medal', 'region'],\n",
       "      dtype='object')"
      ]
     },
     "execution_count": 31,
     "metadata": {},
     "output_type": "execute_result"
    }
   ],
   "source": [
    "sports_df1.columns"
   ]
  },
  {
   "cell_type": "code",
   "execution_count": 32,
   "id": "54e7bce1-f2a2-4c5b-b163-f44378e12910",
   "metadata": {},
   "outputs": [],
   "source": [
    "#To do..\n",
    "\n",
    "# select the 5 oldest rows\n",
    "# filter rows to sports of interest\n",
    "# remove columns of interest\n",
    "# feature engineering BMI\n",
    "# scaling,encoding\n",
    "# train test split\n",
    "# feature = age, weight, height,BMI\n",
    "# target = Medals\n",
    "# regression model\n",
    "# find accuracy, rmse, other netrics\n",
    "# predict "
   ]
  },
  {
   "cell_type": "code",
   "execution_count": 33,
   "id": "961d2c1d-238d-46f5-a07c-9124555ba439",
   "metadata": {},
   "outputs": [],
   "source": [
    "# Group the data by 'Sport' and find the minimum 'Year' within each group\n",
    "oldest_sports = sports_df1.groupby('Sport')['Year'].min()"
   ]
  },
  {
   "cell_type": "code",
   "execution_count": 34,
   "id": "90f99ece-70ce-4dcc-a953-ff3237f8abab",
   "metadata": {},
   "outputs": [],
   "source": [
    "# Sort the oldest_sports Series in ascending order based on the 'Year' values\n",
    "oldest_sports = oldest_sports.sort_values()"
   ]
  },
  {
   "cell_type": "code",
   "execution_count": 35,
   "id": "0e39075a-c373-4eb3-9c7d-c811e780d9eb",
   "metadata": {},
   "outputs": [],
   "source": [
    "# Select the 5 oldest sports\n",
    "oldest_sports = oldest_sports.head(5)"
   ]
  },
  {
   "cell_type": "code",
   "execution_count": 36,
   "id": "b7ba369e-e247-4f4e-9b57-aca76636aeae",
   "metadata": {},
   "outputs": [
    {
     "name": "stdout",
     "output_type": "stream",
     "text": [
      "Sport\n",
      "Wrestling        1896\n",
      "Weightlifting    1896\n",
      "Athletics        1896\n",
      "Gymnastics       1896\n",
      "Tennis           1896\n",
      "Name: Year, dtype: int64\n"
     ]
    }
   ],
   "source": [
    "# Display the 5 oldest sports\n",
    "print(oldest_sports)"
   ]
  },
  {
   "cell_type": "code",
   "execution_count": 37,
   "id": "418c9cd4-8c91-44f3-9591-999502eb6df1",
   "metadata": {},
   "outputs": [],
   "source": [
    "selected_sports = ['Wrestling', 'Weightlifting', 'Athletics', 'Gymnastics', 'Tennis']"
   ]
  },
  {
   "cell_type": "code",
   "execution_count": 38,
   "id": "6bc6ac07-6794-4527-8a26-a2c8d5803a39",
   "metadata": {},
   "outputs": [],
   "source": [
    "columns = ['Age', 'Height', 'Weight', 'Medal', 'Sport']"
   ]
  },
  {
   "cell_type": "code",
   "execution_count": 39,
   "id": "9939451f-2443-43a3-9115-64f8a7bdd1ff",
   "metadata": {},
   "outputs": [],
   "source": [
    "olympics_df = sports_df1[sports_df1['Sport'].isin(selected_sports)][columns]"
   ]
  },
  {
   "cell_type": "code",
   "execution_count": 40,
   "id": "6f6f082c-7881-42d3-8fdb-adfdb64674da",
   "metadata": {},
   "outputs": [
    {
     "data": {
      "text/html": [
       "<div>\n",
       "<style scoped>\n",
       "    .dataframe tbody tr th:only-of-type {\n",
       "        vertical-align: middle;\n",
       "    }\n",
       "\n",
       "    .dataframe tbody tr th {\n",
       "        vertical-align: top;\n",
       "    }\n",
       "\n",
       "    .dataframe thead th {\n",
       "        text-align: right;\n",
       "    }\n",
       "</style>\n",
       "<table border=\"1\" class=\"dataframe\">\n",
       "  <thead>\n",
       "    <tr style=\"text-align: right;\">\n",
       "      <th></th>\n",
       "      <th>Age</th>\n",
       "      <th>Height</th>\n",
       "      <th>Weight</th>\n",
       "      <th>Medal</th>\n",
       "      <th>Sport</th>\n",
       "    </tr>\n",
       "  </thead>\n",
       "  <tbody>\n",
       "    <tr>\n",
       "      <th>26</th>\n",
       "      <td>18</td>\n",
       "      <td>168.00</td>\n",
       "      <td>70.7</td>\n",
       "      <td>No Medal</td>\n",
       "      <td>Athletics</td>\n",
       "    </tr>\n",
       "    <tr>\n",
       "      <th>27</th>\n",
       "      <td>18</td>\n",
       "      <td>168.00</td>\n",
       "      <td>70.7</td>\n",
       "      <td>No Medal</td>\n",
       "      <td>Athletics</td>\n",
       "    </tr>\n",
       "    <tr>\n",
       "      <th>41</th>\n",
       "      <td>28</td>\n",
       "      <td>175.00</td>\n",
       "      <td>64.0</td>\n",
       "      <td>Bronze</td>\n",
       "      <td>Gymnastics</td>\n",
       "    </tr>\n",
       "    <tr>\n",
       "      <th>42</th>\n",
       "      <td>28</td>\n",
       "      <td>175.00</td>\n",
       "      <td>64.0</td>\n",
       "      <td>Gold</td>\n",
       "      <td>Gymnastics</td>\n",
       "    </tr>\n",
       "    <tr>\n",
       "      <th>43</th>\n",
       "      <td>28</td>\n",
       "      <td>175.00</td>\n",
       "      <td>64.0</td>\n",
       "      <td>No Medal</td>\n",
       "      <td>Gymnastics</td>\n",
       "    </tr>\n",
       "    <tr>\n",
       "      <th>...</th>\n",
       "      <td>...</td>\n",
       "      <td>...</td>\n",
       "      <td>...</td>\n",
       "      <td>...</td>\n",
       "      <td>...</td>\n",
       "    </tr>\n",
       "    <tr>\n",
       "      <th>271080</th>\n",
       "      <td>33</td>\n",
       "      <td>168.00</td>\n",
       "      <td>80.0</td>\n",
       "      <td>Bronze</td>\n",
       "      <td>Athletics</td>\n",
       "    </tr>\n",
       "    <tr>\n",
       "      <th>271099</th>\n",
       "      <td>36</td>\n",
       "      <td>171.00</td>\n",
       "      <td>63.0</td>\n",
       "      <td>No Medal</td>\n",
       "      <td>Wrestling</td>\n",
       "    </tr>\n",
       "    <tr>\n",
       "      <th>271100</th>\n",
       "      <td>26</td>\n",
       "      <td>175.34</td>\n",
       "      <td>70.7</td>\n",
       "      <td>No Medal</td>\n",
       "      <td>Athletics</td>\n",
       "    </tr>\n",
       "    <tr>\n",
       "      <th>271102</th>\n",
       "      <td>19</td>\n",
       "      <td>171.00</td>\n",
       "      <td>64.0</td>\n",
       "      <td>Bronze</td>\n",
       "      <td>Athletics</td>\n",
       "    </tr>\n",
       "    <tr>\n",
       "      <th>271103</th>\n",
       "      <td>23</td>\n",
       "      <td>171.00</td>\n",
       "      <td>64.0</td>\n",
       "      <td>Silver</td>\n",
       "      <td>Athletics</td>\n",
       "    </tr>\n",
       "  </tbody>\n",
       "</table>\n",
       "<p>77357 rows × 5 columns</p>\n",
       "</div>"
      ],
      "text/plain": [
       "        Age  Height  Weight     Medal       Sport\n",
       "26       18  168.00    70.7  No Medal   Athletics\n",
       "27       18  168.00    70.7  No Medal   Athletics\n",
       "41       28  175.00    64.0    Bronze  Gymnastics\n",
       "42       28  175.00    64.0      Gold  Gymnastics\n",
       "43       28  175.00    64.0  No Medal  Gymnastics\n",
       "...     ...     ...     ...       ...         ...\n",
       "271080   33  168.00    80.0    Bronze   Athletics\n",
       "271099   36  171.00    63.0  No Medal   Wrestling\n",
       "271100   26  175.34    70.7  No Medal   Athletics\n",
       "271102   19  171.00    64.0    Bronze   Athletics\n",
       "271103   23  171.00    64.0    Silver   Athletics\n",
       "\n",
       "[77357 rows x 5 columns]"
      ]
     },
     "execution_count": 40,
     "metadata": {},
     "output_type": "execute_result"
    }
   ],
   "source": [
    "olympics_df"
   ]
  },
  {
   "cell_type": "markdown",
   "id": "29b38051-da22-4697-8ddf-4bfd8722ccdd",
   "metadata": {},
   "source": [
    "##### Feature Engineering"
   ]
  },
  {
   "cell_type": "code",
   "execution_count": 41,
   "id": "ce1163ce-5781-4a14-aed6-d927e42faef8",
   "metadata": {},
   "outputs": [],
   "source": [
    "# Defining BMI(Body Mass Index)\n",
    "\n",
    "\n",
    "olympics_df['BMI'] = olympics_df['Weight']/olympics_df['Height']"
   ]
  },
  {
   "cell_type": "code",
   "execution_count": 42,
   "id": "9ef95d16-5880-4b5b-b6ed-3608e8dd19b8",
   "metadata": {},
   "outputs": [
    {
     "data": {
      "text/html": [
       "<div>\n",
       "<style scoped>\n",
       "    .dataframe tbody tr th:only-of-type {\n",
       "        vertical-align: middle;\n",
       "    }\n",
       "\n",
       "    .dataframe tbody tr th {\n",
       "        vertical-align: top;\n",
       "    }\n",
       "\n",
       "    .dataframe thead th {\n",
       "        text-align: right;\n",
       "    }\n",
       "</style>\n",
       "<table border=\"1\" class=\"dataframe\">\n",
       "  <thead>\n",
       "    <tr style=\"text-align: right;\">\n",
       "      <th></th>\n",
       "      <th>Age</th>\n",
       "      <th>Height</th>\n",
       "      <th>Weight</th>\n",
       "      <th>Medal</th>\n",
       "      <th>Sport</th>\n",
       "      <th>BMI</th>\n",
       "    </tr>\n",
       "  </thead>\n",
       "  <tbody>\n",
       "    <tr>\n",
       "      <th>26</th>\n",
       "      <td>18</td>\n",
       "      <td>168.00</td>\n",
       "      <td>70.7</td>\n",
       "      <td>No Medal</td>\n",
       "      <td>Athletics</td>\n",
       "      <td>0.420833</td>\n",
       "    </tr>\n",
       "    <tr>\n",
       "      <th>27</th>\n",
       "      <td>18</td>\n",
       "      <td>168.00</td>\n",
       "      <td>70.7</td>\n",
       "      <td>No Medal</td>\n",
       "      <td>Athletics</td>\n",
       "      <td>0.420833</td>\n",
       "    </tr>\n",
       "    <tr>\n",
       "      <th>41</th>\n",
       "      <td>28</td>\n",
       "      <td>175.00</td>\n",
       "      <td>64.0</td>\n",
       "      <td>Bronze</td>\n",
       "      <td>Gymnastics</td>\n",
       "      <td>0.365714</td>\n",
       "    </tr>\n",
       "    <tr>\n",
       "      <th>42</th>\n",
       "      <td>28</td>\n",
       "      <td>175.00</td>\n",
       "      <td>64.0</td>\n",
       "      <td>Gold</td>\n",
       "      <td>Gymnastics</td>\n",
       "      <td>0.365714</td>\n",
       "    </tr>\n",
       "    <tr>\n",
       "      <th>43</th>\n",
       "      <td>28</td>\n",
       "      <td>175.00</td>\n",
       "      <td>64.0</td>\n",
       "      <td>No Medal</td>\n",
       "      <td>Gymnastics</td>\n",
       "      <td>0.365714</td>\n",
       "    </tr>\n",
       "    <tr>\n",
       "      <th>...</th>\n",
       "      <td>...</td>\n",
       "      <td>...</td>\n",
       "      <td>...</td>\n",
       "      <td>...</td>\n",
       "      <td>...</td>\n",
       "      <td>...</td>\n",
       "    </tr>\n",
       "    <tr>\n",
       "      <th>271080</th>\n",
       "      <td>33</td>\n",
       "      <td>168.00</td>\n",
       "      <td>80.0</td>\n",
       "      <td>Bronze</td>\n",
       "      <td>Athletics</td>\n",
       "      <td>0.476190</td>\n",
       "    </tr>\n",
       "    <tr>\n",
       "      <th>271099</th>\n",
       "      <td>36</td>\n",
       "      <td>171.00</td>\n",
       "      <td>63.0</td>\n",
       "      <td>No Medal</td>\n",
       "      <td>Wrestling</td>\n",
       "      <td>0.368421</td>\n",
       "    </tr>\n",
       "    <tr>\n",
       "      <th>271100</th>\n",
       "      <td>26</td>\n",
       "      <td>175.34</td>\n",
       "      <td>70.7</td>\n",
       "      <td>No Medal</td>\n",
       "      <td>Athletics</td>\n",
       "      <td>0.403217</td>\n",
       "    </tr>\n",
       "    <tr>\n",
       "      <th>271102</th>\n",
       "      <td>19</td>\n",
       "      <td>171.00</td>\n",
       "      <td>64.0</td>\n",
       "      <td>Bronze</td>\n",
       "      <td>Athletics</td>\n",
       "      <td>0.374269</td>\n",
       "    </tr>\n",
       "    <tr>\n",
       "      <th>271103</th>\n",
       "      <td>23</td>\n",
       "      <td>171.00</td>\n",
       "      <td>64.0</td>\n",
       "      <td>Silver</td>\n",
       "      <td>Athletics</td>\n",
       "      <td>0.374269</td>\n",
       "    </tr>\n",
       "  </tbody>\n",
       "</table>\n",
       "<p>77357 rows × 6 columns</p>\n",
       "</div>"
      ],
      "text/plain": [
       "        Age  Height  Weight     Medal       Sport       BMI\n",
       "26       18  168.00    70.7  No Medal   Athletics  0.420833\n",
       "27       18  168.00    70.7  No Medal   Athletics  0.420833\n",
       "41       28  175.00    64.0    Bronze  Gymnastics  0.365714\n",
       "42       28  175.00    64.0      Gold  Gymnastics  0.365714\n",
       "43       28  175.00    64.0  No Medal  Gymnastics  0.365714\n",
       "...     ...     ...     ...       ...         ...       ...\n",
       "271080   33  168.00    80.0    Bronze   Athletics  0.476190\n",
       "271099   36  171.00    63.0  No Medal   Wrestling  0.368421\n",
       "271100   26  175.34    70.7  No Medal   Athletics  0.403217\n",
       "271102   19  171.00    64.0    Bronze   Athletics  0.374269\n",
       "271103   23  171.00    64.0    Silver   Athletics  0.374269\n",
       "\n",
       "[77357 rows x 6 columns]"
      ]
     },
     "execution_count": 42,
     "metadata": {},
     "output_type": "execute_result"
    }
   ],
   "source": [
    "olympics_df"
   ]
  },
  {
   "cell_type": "code",
   "execution_count": 43,
   "id": "99d5ed68-06ac-4011-8144-bbb17864904d",
   "metadata": {},
   "outputs": [],
   "source": [
    "olympics_df_copy = olympics_df.copy()"
   ]
  },
  {
   "cell_type": "markdown",
   "id": "3bdbe58a-eb96-4f8f-816b-23d7c797d6d1",
   "metadata": {},
   "source": [
    "##### train-test"
   ]
  },
  {
   "cell_type": "code",
   "execution_count": 44,
   "id": "4b0a0603-7fe0-493e-9c78-6ce3772d4d59",
   "metadata": {},
   "outputs": [],
   "source": [
    "from sklearn.ensemble import GradientBoostingClassifier\n",
    "from sklearn.metrics import accuracy_score\n",
    "from sklearn.ensemble import RandomForestClassifier"
   ]
  },
  {
   "cell_type": "code",
   "execution_count": 45,
   "id": "3fbb5996-a5d5-41d9-86d5-424b53a51f77",
   "metadata": {},
   "outputs": [],
   "source": [
    "# We need to encode our target\n",
    "\n",
    "target_mapping = {'Gold': 1, 'Silver': 2, 'Bronze': 3, 'No Medal': 0}\n",
    "olympics_df_copy['Medal'] = olympics_df_copy['Medal'].map(target_mapping)"
   ]
  },
  {
   "cell_type": "code",
   "execution_count": 46,
   "id": "7f373b8e-cf37-4c8d-83ca-d7ac9040a182",
   "metadata": {},
   "outputs": [
    {
     "data": {
      "text/html": [
       "<div>\n",
       "<style scoped>\n",
       "    .dataframe tbody tr th:only-of-type {\n",
       "        vertical-align: middle;\n",
       "    }\n",
       "\n",
       "    .dataframe tbody tr th {\n",
       "        vertical-align: top;\n",
       "    }\n",
       "\n",
       "    .dataframe thead th {\n",
       "        text-align: right;\n",
       "    }\n",
       "</style>\n",
       "<table border=\"1\" class=\"dataframe\">\n",
       "  <thead>\n",
       "    <tr style=\"text-align: right;\">\n",
       "      <th></th>\n",
       "      <th>Age</th>\n",
       "      <th>Height</th>\n",
       "      <th>Weight</th>\n",
       "      <th>Medal</th>\n",
       "      <th>Sport</th>\n",
       "      <th>BMI</th>\n",
       "    </tr>\n",
       "  </thead>\n",
       "  <tbody>\n",
       "    <tr>\n",
       "      <th>26</th>\n",
       "      <td>18</td>\n",
       "      <td>168.00</td>\n",
       "      <td>70.7</td>\n",
       "      <td>0</td>\n",
       "      <td>Athletics</td>\n",
       "      <td>0.420833</td>\n",
       "    </tr>\n",
       "    <tr>\n",
       "      <th>27</th>\n",
       "      <td>18</td>\n",
       "      <td>168.00</td>\n",
       "      <td>70.7</td>\n",
       "      <td>0</td>\n",
       "      <td>Athletics</td>\n",
       "      <td>0.420833</td>\n",
       "    </tr>\n",
       "    <tr>\n",
       "      <th>41</th>\n",
       "      <td>28</td>\n",
       "      <td>175.00</td>\n",
       "      <td>64.0</td>\n",
       "      <td>3</td>\n",
       "      <td>Gymnastics</td>\n",
       "      <td>0.365714</td>\n",
       "    </tr>\n",
       "    <tr>\n",
       "      <th>42</th>\n",
       "      <td>28</td>\n",
       "      <td>175.00</td>\n",
       "      <td>64.0</td>\n",
       "      <td>1</td>\n",
       "      <td>Gymnastics</td>\n",
       "      <td>0.365714</td>\n",
       "    </tr>\n",
       "    <tr>\n",
       "      <th>43</th>\n",
       "      <td>28</td>\n",
       "      <td>175.00</td>\n",
       "      <td>64.0</td>\n",
       "      <td>0</td>\n",
       "      <td>Gymnastics</td>\n",
       "      <td>0.365714</td>\n",
       "    </tr>\n",
       "    <tr>\n",
       "      <th>...</th>\n",
       "      <td>...</td>\n",
       "      <td>...</td>\n",
       "      <td>...</td>\n",
       "      <td>...</td>\n",
       "      <td>...</td>\n",
       "      <td>...</td>\n",
       "    </tr>\n",
       "    <tr>\n",
       "      <th>271080</th>\n",
       "      <td>33</td>\n",
       "      <td>168.00</td>\n",
       "      <td>80.0</td>\n",
       "      <td>3</td>\n",
       "      <td>Athletics</td>\n",
       "      <td>0.476190</td>\n",
       "    </tr>\n",
       "    <tr>\n",
       "      <th>271099</th>\n",
       "      <td>36</td>\n",
       "      <td>171.00</td>\n",
       "      <td>63.0</td>\n",
       "      <td>0</td>\n",
       "      <td>Wrestling</td>\n",
       "      <td>0.368421</td>\n",
       "    </tr>\n",
       "    <tr>\n",
       "      <th>271100</th>\n",
       "      <td>26</td>\n",
       "      <td>175.34</td>\n",
       "      <td>70.7</td>\n",
       "      <td>0</td>\n",
       "      <td>Athletics</td>\n",
       "      <td>0.403217</td>\n",
       "    </tr>\n",
       "    <tr>\n",
       "      <th>271102</th>\n",
       "      <td>19</td>\n",
       "      <td>171.00</td>\n",
       "      <td>64.0</td>\n",
       "      <td>3</td>\n",
       "      <td>Athletics</td>\n",
       "      <td>0.374269</td>\n",
       "    </tr>\n",
       "    <tr>\n",
       "      <th>271103</th>\n",
       "      <td>23</td>\n",
       "      <td>171.00</td>\n",
       "      <td>64.0</td>\n",
       "      <td>2</td>\n",
       "      <td>Athletics</td>\n",
       "      <td>0.374269</td>\n",
       "    </tr>\n",
       "  </tbody>\n",
       "</table>\n",
       "<p>77357 rows × 6 columns</p>\n",
       "</div>"
      ],
      "text/plain": [
       "        Age  Height  Weight  Medal       Sport       BMI\n",
       "26       18  168.00    70.7      0   Athletics  0.420833\n",
       "27       18  168.00    70.7      0   Athletics  0.420833\n",
       "41       28  175.00    64.0      3  Gymnastics  0.365714\n",
       "42       28  175.00    64.0      1  Gymnastics  0.365714\n",
       "43       28  175.00    64.0      0  Gymnastics  0.365714\n",
       "...     ...     ...     ...    ...         ...       ...\n",
       "271080   33  168.00    80.0      3   Athletics  0.476190\n",
       "271099   36  171.00    63.0      0   Wrestling  0.368421\n",
       "271100   26  175.34    70.7      0   Athletics  0.403217\n",
       "271102   19  171.00    64.0      3   Athletics  0.374269\n",
       "271103   23  171.00    64.0      2   Athletics  0.374269\n",
       "\n",
       "[77357 rows x 6 columns]"
      ]
     },
     "execution_count": 46,
     "metadata": {},
     "output_type": "execute_result"
    }
   ],
   "source": [
    "olympics_df_copy"
   ]
  },
  {
   "cell_type": "code",
   "execution_count": 47,
   "id": "a671a741-de3b-498f-ac6f-faaf49886eea",
   "metadata": {},
   "outputs": [],
   "source": [
    "# Select the features (X) and target (y)\n",
    "features = ['Age', 'Weight', 'Height', 'BMI']\n",
    "target = 'Medal'"
   ]
  },
  {
   "cell_type": "code",
   "execution_count": 48,
   "id": "4cbc2680-11a2-4961-9946-096ddbfdf779",
   "metadata": {},
   "outputs": [],
   "source": [
    "X = olympics_df_copy[features]\n",
    "y = olympics_df_copy[target]"
   ]
  },
  {
   "cell_type": "code",
   "execution_count": 49,
   "id": "04434616-c5b2-4731-815d-df7ece2d733d",
   "metadata": {
    "slideshow": {
     "slide_type": ""
    },
    "tags": []
   },
   "outputs": [],
   "source": [
    "# Split the data into train and test sets\n",
    "X_train, X_test, y_train, y_test = train_test_split(X, y, test_size=0.2, random_state=101)"
   ]
  },
  {
   "cell_type": "code",
   "execution_count": 50,
   "id": "0f6ca7ac-d125-4a3a-b585-f5690d236cfc",
   "metadata": {},
   "outputs": [
    {
     "data": {
      "text/html": [
       "<div>\n",
       "<style scoped>\n",
       "    .dataframe tbody tr th:only-of-type {\n",
       "        vertical-align: middle;\n",
       "    }\n",
       "\n",
       "    .dataframe tbody tr th {\n",
       "        vertical-align: top;\n",
       "    }\n",
       "\n",
       "    .dataframe thead th {\n",
       "        text-align: right;\n",
       "    }\n",
       "</style>\n",
       "<table border=\"1\" class=\"dataframe\">\n",
       "  <thead>\n",
       "    <tr style=\"text-align: right;\">\n",
       "      <th></th>\n",
       "      <th>Age</th>\n",
       "      <th>Weight</th>\n",
       "      <th>Height</th>\n",
       "      <th>BMI</th>\n",
       "    </tr>\n",
       "  </thead>\n",
       "  <tbody>\n",
       "    <tr>\n",
       "      <th>228657</th>\n",
       "      <td>22</td>\n",
       "      <td>70.7</td>\n",
       "      <td>175.34</td>\n",
       "      <td>0.403217</td>\n",
       "    </tr>\n",
       "    <tr>\n",
       "      <th>440</th>\n",
       "      <td>22</td>\n",
       "      <td>63.0</td>\n",
       "      <td>167.00</td>\n",
       "      <td>0.377246</td>\n",
       "    </tr>\n",
       "    <tr>\n",
       "      <th>30800</th>\n",
       "      <td>42</td>\n",
       "      <td>70.7</td>\n",
       "      <td>175.34</td>\n",
       "      <td>0.403217</td>\n",
       "    </tr>\n",
       "    <tr>\n",
       "      <th>143308</th>\n",
       "      <td>22</td>\n",
       "      <td>85.0</td>\n",
       "      <td>175.00</td>\n",
       "      <td>0.485714</td>\n",
       "    </tr>\n",
       "    <tr>\n",
       "      <th>14716</th>\n",
       "      <td>21</td>\n",
       "      <td>75.0</td>\n",
       "      <td>189.00</td>\n",
       "      <td>0.396825</td>\n",
       "    </tr>\n",
       "    <tr>\n",
       "      <th>...</th>\n",
       "      <td>...</td>\n",
       "      <td>...</td>\n",
       "      <td>...</td>\n",
       "      <td>...</td>\n",
       "    </tr>\n",
       "    <tr>\n",
       "      <th>194184</th>\n",
       "      <td>26</td>\n",
       "      <td>70.0</td>\n",
       "      <td>180.00</td>\n",
       "      <td>0.388889</td>\n",
       "    </tr>\n",
       "    <tr>\n",
       "      <th>173917</th>\n",
       "      <td>24</td>\n",
       "      <td>58.0</td>\n",
       "      <td>155.00</td>\n",
       "      <td>0.374194</td>\n",
       "    </tr>\n",
       "    <tr>\n",
       "      <th>18935</th>\n",
       "      <td>27</td>\n",
       "      <td>63.0</td>\n",
       "      <td>173.00</td>\n",
       "      <td>0.364162</td>\n",
       "    </tr>\n",
       "    <tr>\n",
       "      <th>258028</th>\n",
       "      <td>22</td>\n",
       "      <td>73.0</td>\n",
       "      <td>178.00</td>\n",
       "      <td>0.410112</td>\n",
       "    </tr>\n",
       "    <tr>\n",
       "      <th>161450</th>\n",
       "      <td>23</td>\n",
       "      <td>65.0</td>\n",
       "      <td>165.00</td>\n",
       "      <td>0.393939</td>\n",
       "    </tr>\n",
       "  </tbody>\n",
       "</table>\n",
       "<p>61885 rows × 4 columns</p>\n",
       "</div>"
      ],
      "text/plain": [
       "        Age  Weight  Height       BMI\n",
       "228657   22    70.7  175.34  0.403217\n",
       "440      22    63.0  167.00  0.377246\n",
       "30800    42    70.7  175.34  0.403217\n",
       "143308   22    85.0  175.00  0.485714\n",
       "14716    21    75.0  189.00  0.396825\n",
       "...     ...     ...     ...       ...\n",
       "194184   26    70.0  180.00  0.388889\n",
       "173917   24    58.0  155.00  0.374194\n",
       "18935    27    63.0  173.00  0.364162\n",
       "258028   22    73.0  178.00  0.410112\n",
       "161450   23    65.0  165.00  0.393939\n",
       "\n",
       "[61885 rows x 4 columns]"
      ]
     },
     "execution_count": 50,
     "metadata": {},
     "output_type": "execute_result"
    }
   ],
   "source": [
    "X_train"
   ]
  },
  {
   "cell_type": "markdown",
   "id": "77809596-ee67-47ba-b875-40a0010ac5d2",
   "metadata": {},
   "source": [
    "##### Modelling"
   ]
  },
  {
   "cell_type": "code",
   "execution_count": 51,
   "id": "7ee5f159-205c-4279-9857-03899f96d39b",
   "metadata": {},
   "outputs": [
    {
     "data": {
      "text/plain": [
       "RandomForestClassifier()"
      ]
     },
     "execution_count": 51,
     "metadata": {},
     "output_type": "execute_result"
    }
   ],
   "source": [
    "# Random FOrest\n",
    "\n",
    "model1 = RandomForestClassifier()\n",
    "model1.fit(X_train, y_train)"
   ]
  },
  {
   "cell_type": "code",
   "execution_count": 52,
   "id": "a5ac5ae1-baf4-4c9f-b4d6-672b4a129f6b",
   "metadata": {},
   "outputs": [
    {
     "data": {
      "text/plain": [
       "GradientBoostingClassifier()"
      ]
     },
     "execution_count": 52,
     "metadata": {},
     "output_type": "execute_result"
    }
   ],
   "source": [
    "# Gradient Boost\n",
    "\n",
    "model2 = GradientBoostingClassifier()\n",
    "model2.fit(X_train, y_train)"
   ]
  },
  {
   "cell_type": "markdown",
   "id": "933e8f45-f778-4ad8-9565-d88aaf446abc",
   "metadata": {},
   "source": [
    "Now we make predictions on both and compare"
   ]
  },
  {
   "cell_type": "code",
   "execution_count": 53,
   "id": "36e7b13b-1e88-4552-b0b2-4cf91331013f",
   "metadata": {},
   "outputs": [],
   "source": [
    "y_pred1 = model1.predict(X_test)\n",
    "y_pred2 = model2.predict(X_test)"
   ]
  },
  {
   "cell_type": "code",
   "execution_count": 54,
   "id": "b758e120-3873-41eb-a597-98008f805975",
   "metadata": {},
   "outputs": [
    {
     "name": "stdout",
     "output_type": "stream",
     "text": [
      "Accuracy of Random Forest: 87.80%\n",
      "Accuracy of GraientBoost: 89.21%\n"
     ]
    }
   ],
   "source": [
    "# Evaluate the model's performance\n",
    "\n",
    "accuracy1 = accuracy_score(y_test, y_pred1)\n",
    "accuracy2 = accuracy_score(y_test, y_pred2)\n",
    "print(f'Accuracy of Random Forest: {accuracy1*100:.2f}%')\n",
    "print(f'Accuracy of GraientBoost: {accuracy2*100:.2f}%')"
   ]
  },
  {
   "cell_type": "markdown",
   "id": "026280cf-f598-4f8d-8d03-3d019fd09c88",
   "metadata": {},
   "source": [
    "We'll focus on GradientBoost"
   ]
  },
  {
   "cell_type": "code",
   "execution_count": 55,
   "id": "187bfca4-1a1d-4fc0-a278-5cd5ffd2bd83",
   "metadata": {},
   "outputs": [],
   "source": [
    "# Calculate Mean Squared Error (MSE)\n",
    "mse = mean_squared_error(y_test, y_pred2)"
   ]
  },
  {
   "cell_type": "code",
   "execution_count": 56,
   "id": "244350be-c9ca-4fe8-b6cb-07db54c348dd",
   "metadata": {},
   "outputs": [],
   "source": [
    "# Calculate Mean Absolute Error (MAE)\n",
    "mae = mean_absolute_error(y_test, y_pred2)"
   ]
  },
  {
   "cell_type": "code",
   "execution_count": 57,
   "id": "f1944d8e-582e-4d90-a577-8cbecd9341b8",
   "metadata": {},
   "outputs": [],
   "source": [
    "# Calculate R-squared (coefficient of determination)\n",
    "r2 = r2_score(y_test, y_pred2)"
   ]
  },
  {
   "cell_type": "code",
   "execution_count": 58,
   "id": "06c55832-55da-4e20-a537-f117008a7004",
   "metadata": {},
   "outputs": [
    {
     "name": "stdout",
     "output_type": "stream",
     "text": [
      "Mean Squared Error: 0.516093588417787\n"
     ]
    }
   ],
   "source": [
    "print(\"Mean Squared Error:\", mse)"
   ]
  },
  {
   "cell_type": "code",
   "execution_count": 59,
   "id": "942f8e2c-6ea0-4b36-be9d-db9b6e5ccc7c",
   "metadata": {},
   "outputs": [
    {
     "name": "stdout",
     "output_type": "stream",
     "text": [
      "Mean Absolute Error: 0.21904084798345397\n"
     ]
    }
   ],
   "source": [
    "print(\"Mean Absolute Error:\", mae)"
   ]
  },
  {
   "cell_type": "code",
   "execution_count": 60,
   "id": "d0e9c601-0cb6-4c50-91ca-56bc0dbfeeb6",
   "metadata": {},
   "outputs": [
    {
     "name": "stdout",
     "output_type": "stream",
     "text": [
      "R-squared: -0.10210405095045383\n"
     ]
    }
   ],
   "source": [
    "print(\"R-squared:\", r2)"
   ]
  },
  {
   "cell_type": "code",
   "execution_count": null,
   "id": "d91a65e2-f789-45ad-bac7-9f82ac26cf86",
   "metadata": {},
   "outputs": [],
   "source": []
  },
  {
   "cell_type": "markdown",
   "id": "5b88bd20-7b00-463d-bbbf-796757bf419b",
   "metadata": {},
   "source": [
    "##### Prediction"
   ]
  },
  {
   "cell_type": "code",
   "execution_count": 61,
   "id": "c1572a12-ea9c-4b7b-8e30-a028e736dcb8",
   "metadata": {},
   "outputs": [],
   "source": [
    "#predicting medals based on events, using height,weight and age"
   ]
  },
  {
   "cell_type": "code",
   "execution_count": 62,
   "id": "f0551411-de11-4152-bce9-99795fe0dd76",
   "metadata": {},
   "outputs": [],
   "source": [
    "reverse_mapping = {1: 'Gold', 2: 'Silver', 3: 'Bronze', 0: 'No Medal'}"
   ]
  },
  {
   "cell_type": "code",
   "execution_count": 63,
   "id": "7816dfdb-485a-45bd-9eaf-4f74192c9caa",
   "metadata": {},
   "outputs": [],
   "source": [
    "# parameters to predict\n",
    "# in order: Age, Weight, Height, BMI\n",
    "\n",
    "param = [[22, 85, 175, 0.485714]] "
   ]
  },
  {
   "cell_type": "code",
   "execution_count": 64,
   "id": "7cfa4b46-fd1a-49b2-ad0a-faf4d6d0ca4f",
   "metadata": {},
   "outputs": [
    {
     "name": "stderr",
     "output_type": "stream",
     "text": [
      "C:\\Users\\ancep\\anaconda3\\lib\\site-packages\\sklearn\\base.py:450: UserWarning: X does not have valid feature names, but GradientBoostingClassifier was fitted with feature names\n",
      "  warnings.warn(\n"
     ]
    }
   ],
   "source": [
    "predicted_medal = model2.predict(param)"
   ]
  },
  {
   "cell_type": "code",
   "execution_count": 65,
   "id": "6d5fc070-1411-4a8a-9e93-e6607d90f548",
   "metadata": {},
   "outputs": [
    {
     "data": {
      "text/plain": [
       "array([0], dtype=int64)"
      ]
     },
     "execution_count": 65,
     "metadata": {},
     "output_type": "execute_result"
    }
   ],
   "source": [
    "predicted_medal"
   ]
  },
  {
   "cell_type": "code",
   "execution_count": 66,
   "id": "cbefc5c2-f260-4880-95ed-825228ddcd97",
   "metadata": {},
   "outputs": [],
   "source": [
    "predicted_medal_labels = [reverse_mapping[label] for label in predicted_medal]"
   ]
  },
  {
   "cell_type": "code",
   "execution_count": 67,
   "id": "ab00ac8b-b9b5-42c8-a0b3-5b2915d5eced",
   "metadata": {},
   "outputs": [
    {
     "name": "stdout",
     "output_type": "stream",
     "text": [
      "Predicted Medal: ['No Medal']\n"
     ]
    }
   ],
   "source": [
    "# Print the predicted medal outcome labels\n",
    "print('Predicted Medal:', predicted_medal_labels)"
   ]
  },
  {
   "cell_type": "code",
   "execution_count": null,
   "id": "37b508ba-151a-4f35-b5a1-a466acbebd29",
   "metadata": {},
   "outputs": [],
   "source": []
  },
  {
   "cell_type": "markdown",
   "id": "6cbb9dfc-ef8d-48a9-86a6-fe4d7b611845",
   "metadata": {},
   "source": [
    "## ATTENTION"
   ]
  },
  {
   "cell_type": "markdown",
   "id": "d20a4b61-d5ca-4101-8025-41259026ead9",
   "metadata": {},
   "source": [
    "SOOOOOOOOOOO a small problem here, we have a biased model, its predicting 0 every time"
   ]
  },
  {
   "cell_type": "code",
   "execution_count": 68,
   "id": "3151d8f7-e0ed-42af-8056-861ca0784c95",
   "metadata": {},
   "outputs": [
    {
     "data": {
      "text/plain": [
       "0    55358\n",
       "1     2232\n",
       "2     2148\n",
       "3     2147\n",
       "Name: Medal, dtype: int64"
      ]
     },
     "execution_count": 68,
     "metadata": {},
     "output_type": "execute_result"
    }
   ],
   "source": [
    "y_train.value_counts()"
   ]
  },
  {
   "cell_type": "markdown",
   "id": "7b2d972e-8edb-43c4-b148-e45920e124a2",
   "metadata": {},
   "source": [
    "see, here,, count of 0 compared to the others"
   ]
  },
  {
   "cell_type": "markdown",
   "id": "28332c28-c16d-4a51-a279-c2174e39fbef",
   "metadata": {},
   "source": [
    "trying to fix it  by 'Undersampling' the points, but that will drop us from 77k point to like 7k points which can lead to poor model quality"
   ]
  },
  {
   "cell_type": "code",
   "execution_count": 69,
   "id": "9a9b2f6c-3f6d-4f3e-8bc6-6153c1768cc6",
   "metadata": {},
   "outputs": [
    {
     "data": {
      "text/html": [
       "<div>\n",
       "<style scoped>\n",
       "    .dataframe tbody tr th:only-of-type {\n",
       "        vertical-align: middle;\n",
       "    }\n",
       "\n",
       "    .dataframe tbody tr th {\n",
       "        vertical-align: top;\n",
       "    }\n",
       "\n",
       "    .dataframe thead th {\n",
       "        text-align: right;\n",
       "    }\n",
       "</style>\n",
       "<table border=\"1\" class=\"dataframe\">\n",
       "  <thead>\n",
       "    <tr style=\"text-align: right;\">\n",
       "      <th></th>\n",
       "      <th>Age</th>\n",
       "      <th>Height</th>\n",
       "      <th>Weight</th>\n",
       "      <th>Medal</th>\n",
       "      <th>Sport</th>\n",
       "      <th>BMI</th>\n",
       "    </tr>\n",
       "  </thead>\n",
       "  <tbody>\n",
       "    <tr>\n",
       "      <th>26</th>\n",
       "      <td>18</td>\n",
       "      <td>168.00</td>\n",
       "      <td>70.7</td>\n",
       "      <td>0</td>\n",
       "      <td>Athletics</td>\n",
       "      <td>0.420833</td>\n",
       "    </tr>\n",
       "    <tr>\n",
       "      <th>27</th>\n",
       "      <td>18</td>\n",
       "      <td>168.00</td>\n",
       "      <td>70.7</td>\n",
       "      <td>0</td>\n",
       "      <td>Athletics</td>\n",
       "      <td>0.420833</td>\n",
       "    </tr>\n",
       "    <tr>\n",
       "      <th>41</th>\n",
       "      <td>28</td>\n",
       "      <td>175.00</td>\n",
       "      <td>64.0</td>\n",
       "      <td>3</td>\n",
       "      <td>Gymnastics</td>\n",
       "      <td>0.365714</td>\n",
       "    </tr>\n",
       "    <tr>\n",
       "      <th>42</th>\n",
       "      <td>28</td>\n",
       "      <td>175.00</td>\n",
       "      <td>64.0</td>\n",
       "      <td>1</td>\n",
       "      <td>Gymnastics</td>\n",
       "      <td>0.365714</td>\n",
       "    </tr>\n",
       "    <tr>\n",
       "      <th>43</th>\n",
       "      <td>28</td>\n",
       "      <td>175.00</td>\n",
       "      <td>64.0</td>\n",
       "      <td>0</td>\n",
       "      <td>Gymnastics</td>\n",
       "      <td>0.365714</td>\n",
       "    </tr>\n",
       "    <tr>\n",
       "      <th>...</th>\n",
       "      <td>...</td>\n",
       "      <td>...</td>\n",
       "      <td>...</td>\n",
       "      <td>...</td>\n",
       "      <td>...</td>\n",
       "      <td>...</td>\n",
       "    </tr>\n",
       "    <tr>\n",
       "      <th>271080</th>\n",
       "      <td>33</td>\n",
       "      <td>168.00</td>\n",
       "      <td>80.0</td>\n",
       "      <td>3</td>\n",
       "      <td>Athletics</td>\n",
       "      <td>0.476190</td>\n",
       "    </tr>\n",
       "    <tr>\n",
       "      <th>271099</th>\n",
       "      <td>36</td>\n",
       "      <td>171.00</td>\n",
       "      <td>63.0</td>\n",
       "      <td>0</td>\n",
       "      <td>Wrestling</td>\n",
       "      <td>0.368421</td>\n",
       "    </tr>\n",
       "    <tr>\n",
       "      <th>271100</th>\n",
       "      <td>26</td>\n",
       "      <td>175.34</td>\n",
       "      <td>70.7</td>\n",
       "      <td>0</td>\n",
       "      <td>Athletics</td>\n",
       "      <td>0.403217</td>\n",
       "    </tr>\n",
       "    <tr>\n",
       "      <th>271102</th>\n",
       "      <td>19</td>\n",
       "      <td>171.00</td>\n",
       "      <td>64.0</td>\n",
       "      <td>3</td>\n",
       "      <td>Athletics</td>\n",
       "      <td>0.374269</td>\n",
       "    </tr>\n",
       "    <tr>\n",
       "      <th>271103</th>\n",
       "      <td>23</td>\n",
       "      <td>171.00</td>\n",
       "      <td>64.0</td>\n",
       "      <td>2</td>\n",
       "      <td>Athletics</td>\n",
       "      <td>0.374269</td>\n",
       "    </tr>\n",
       "  </tbody>\n",
       "</table>\n",
       "<p>77357 rows × 6 columns</p>\n",
       "</div>"
      ],
      "text/plain": [
       "        Age  Height  Weight  Medal       Sport       BMI\n",
       "26       18  168.00    70.7      0   Athletics  0.420833\n",
       "27       18  168.00    70.7      0   Athletics  0.420833\n",
       "41       28  175.00    64.0      3  Gymnastics  0.365714\n",
       "42       28  175.00    64.0      1  Gymnastics  0.365714\n",
       "43       28  175.00    64.0      0  Gymnastics  0.365714\n",
       "...     ...     ...     ...    ...         ...       ...\n",
       "271080   33  168.00    80.0      3   Athletics  0.476190\n",
       "271099   36  171.00    63.0      0   Wrestling  0.368421\n",
       "271100   26  175.34    70.7      0   Athletics  0.403217\n",
       "271102   19  171.00    64.0      3   Athletics  0.374269\n",
       "271103   23  171.00    64.0      2   Athletics  0.374269\n",
       "\n",
       "[77357 rows x 6 columns]"
      ]
     },
     "execution_count": 69,
     "metadata": {},
     "output_type": "execute_result"
    }
   ],
   "source": [
    "olympics_df_copy"
   ]
  },
  {
   "cell_type": "code",
   "execution_count": 70,
   "id": "eebda8c7-2d5c-4033-baba-2ac514454d18",
   "metadata": {},
   "outputs": [],
   "source": [
    "#checkpoint\n",
    "olympics2 = olympics_df_copy.copy()"
   ]
  },
  {
   "cell_type": "code",
   "execution_count": 71,
   "id": "449a697c-7040-4256-9392-c037b9d9f8f7",
   "metadata": {},
   "outputs": [],
   "source": [
    "# Group the data by 'Medal' column\n",
    "grouped_df = olympics_df_copy.groupby('Medal')"
   ]
  },
  {
   "cell_type": "code",
   "execution_count": 72,
   "id": "0517ef04-ca4b-4140-8092-c22d661ae914",
   "metadata": {},
   "outputs": [],
   "source": [
    "# Determine the minimum number of instances across all medal classes\n",
    "min_samples = grouped_df['Medal'].count().min()\n",
    "\n",
    "# Undersample each medal class to have the same number of instances\n",
    "undsamp_olympic__df = grouped_df.apply(lambda x: x.sample(n=min_samples, random_state=42))\n",
    "\n",
    "#be sure to shuffle\n",
    "undsamp_olympic__df = undsamp_olympic__df.sample(frac=1, random_state=42)\n",
    "\n",
    "# Reset the index of the undersampled DataFrame\n",
    "undsamp_olympic__df.reset_index(drop=True, inplace=True)"
   ]
  },
  {
   "cell_type": "code",
   "execution_count": 73,
   "id": "c05a3042-8974-4976-a9f0-d944d893f735",
   "metadata": {},
   "outputs": [
    {
     "data": {
      "text/html": [
       "<div>\n",
       "<style scoped>\n",
       "    .dataframe tbody tr th:only-of-type {\n",
       "        vertical-align: middle;\n",
       "    }\n",
       "\n",
       "    .dataframe tbody tr th {\n",
       "        vertical-align: top;\n",
       "    }\n",
       "\n",
       "    .dataframe thead th {\n",
       "        text-align: right;\n",
       "    }\n",
       "</style>\n",
       "<table border=\"1\" class=\"dataframe\">\n",
       "  <thead>\n",
       "    <tr style=\"text-align: right;\">\n",
       "      <th></th>\n",
       "      <th>Age</th>\n",
       "      <th>Height</th>\n",
       "      <th>Weight</th>\n",
       "      <th>Medal</th>\n",
       "      <th>Sport</th>\n",
       "      <th>BMI</th>\n",
       "    </tr>\n",
       "  </thead>\n",
       "  <tbody>\n",
       "    <tr>\n",
       "      <th>0</th>\n",
       "      <td>22</td>\n",
       "      <td>196.00</td>\n",
       "      <td>90.0</td>\n",
       "      <td>3</td>\n",
       "      <td>Athletics</td>\n",
       "      <td>0.459184</td>\n",
       "    </tr>\n",
       "    <tr>\n",
       "      <th>1</th>\n",
       "      <td>30</td>\n",
       "      <td>175.34</td>\n",
       "      <td>70.7</td>\n",
       "      <td>1</td>\n",
       "      <td>Wrestling</td>\n",
       "      <td>0.403217</td>\n",
       "    </tr>\n",
       "    <tr>\n",
       "      <th>2</th>\n",
       "      <td>19</td>\n",
       "      <td>163.00</td>\n",
       "      <td>59.0</td>\n",
       "      <td>3</td>\n",
       "      <td>Athletics</td>\n",
       "      <td>0.361963</td>\n",
       "    </tr>\n",
       "    <tr>\n",
       "      <th>3</th>\n",
       "      <td>22</td>\n",
       "      <td>186.00</td>\n",
       "      <td>70.0</td>\n",
       "      <td>3</td>\n",
       "      <td>Athletics</td>\n",
       "      <td>0.376344</td>\n",
       "    </tr>\n",
       "    <tr>\n",
       "      <th>4</th>\n",
       "      <td>22</td>\n",
       "      <td>186.00</td>\n",
       "      <td>74.0</td>\n",
       "      <td>2</td>\n",
       "      <td>Athletics</td>\n",
       "      <td>0.397849</td>\n",
       "    </tr>\n",
       "    <tr>\n",
       "      <th>...</th>\n",
       "      <td>...</td>\n",
       "      <td>...</td>\n",
       "      <td>...</td>\n",
       "      <td>...</td>\n",
       "      <td>...</td>\n",
       "      <td>...</td>\n",
       "    </tr>\n",
       "    <tr>\n",
       "      <th>10835</th>\n",
       "      <td>25</td>\n",
       "      <td>178.00</td>\n",
       "      <td>73.0</td>\n",
       "      <td>2</td>\n",
       "      <td>Athletics</td>\n",
       "      <td>0.410112</td>\n",
       "    </tr>\n",
       "    <tr>\n",
       "      <th>10836</th>\n",
       "      <td>23</td>\n",
       "      <td>175.34</td>\n",
       "      <td>70.7</td>\n",
       "      <td>1</td>\n",
       "      <td>Gymnastics</td>\n",
       "      <td>0.403217</td>\n",
       "    </tr>\n",
       "    <tr>\n",
       "      <th>10837</th>\n",
       "      <td>26</td>\n",
       "      <td>178.00</td>\n",
       "      <td>76.0</td>\n",
       "      <td>1</td>\n",
       "      <td>Athletics</td>\n",
       "      <td>0.426966</td>\n",
       "    </tr>\n",
       "    <tr>\n",
       "      <th>10838</th>\n",
       "      <td>19</td>\n",
       "      <td>163.00</td>\n",
       "      <td>59.0</td>\n",
       "      <td>0</td>\n",
       "      <td>Athletics</td>\n",
       "      <td>0.361963</td>\n",
       "    </tr>\n",
       "    <tr>\n",
       "      <th>10839</th>\n",
       "      <td>23</td>\n",
       "      <td>181.00</td>\n",
       "      <td>72.0</td>\n",
       "      <td>2</td>\n",
       "      <td>Athletics</td>\n",
       "      <td>0.397790</td>\n",
       "    </tr>\n",
       "  </tbody>\n",
       "</table>\n",
       "<p>10840 rows × 6 columns</p>\n",
       "</div>"
      ],
      "text/plain": [
       "       Age  Height  Weight  Medal       Sport       BMI\n",
       "0       22  196.00    90.0      3   Athletics  0.459184\n",
       "1       30  175.34    70.7      1   Wrestling  0.403217\n",
       "2       19  163.00    59.0      3   Athletics  0.361963\n",
       "3       22  186.00    70.0      3   Athletics  0.376344\n",
       "4       22  186.00    74.0      2   Athletics  0.397849\n",
       "...    ...     ...     ...    ...         ...       ...\n",
       "10835   25  178.00    73.0      2   Athletics  0.410112\n",
       "10836   23  175.34    70.7      1  Gymnastics  0.403217\n",
       "10837   26  178.00    76.0      1   Athletics  0.426966\n",
       "10838   19  163.00    59.0      0   Athletics  0.361963\n",
       "10839   23  181.00    72.0      2   Athletics  0.397790\n",
       "\n",
       "[10840 rows x 6 columns]"
      ]
     },
     "execution_count": 73,
     "metadata": {},
     "output_type": "execute_result"
    }
   ],
   "source": [
    "undsamp_olympic__df"
   ]
  },
  {
   "cell_type": "code",
   "execution_count": 74,
   "id": "ec9886f0-6a34-4222-99ec-378b3e59ba20",
   "metadata": {},
   "outputs": [
    {
     "data": {
      "text/plain": [
       "3    2710\n",
       "1    2710\n",
       "2    2710\n",
       "0    2710\n",
       "Name: Medal, dtype: int64"
      ]
     },
     "execution_count": 74,
     "metadata": {},
     "output_type": "execute_result"
    }
   ],
   "source": [
    "undsamp_olympic__df.Medal.value_counts()"
   ]
  },
  {
   "cell_type": "markdown",
   "id": "876a5777-bdfa-495e-b959-fed4f4fdad88",
   "metadata": {},
   "source": [
    "Equal dimension now"
   ]
  },
  {
   "cell_type": "code",
   "execution_count": 75,
   "id": "6f8969ed-4472-46b0-abfa-265042c46fe4",
   "metadata": {},
   "outputs": [],
   "source": [
    "# Select the features (X) and target (y)\n",
    "features = ['Age', 'Weight', 'Height', 'BMI']\n",
    "target = 'Medal'"
   ]
  },
  {
   "cell_type": "code",
   "execution_count": 76,
   "id": "d5d1268a-d0de-4eb0-b53d-7d5e13934ac6",
   "metadata": {},
   "outputs": [],
   "source": [
    "X = undsamp_olympic__df[features]\n",
    "y = undsamp_olympic__df[target]"
   ]
  },
  {
   "cell_type": "code",
   "execution_count": 77,
   "id": "d6ea0a27-135b-4d32-9fd4-86f743e0455d",
   "metadata": {},
   "outputs": [],
   "source": [
    "# Split the data into train and test sets\n",
    "X_train, X_test, y_train, y_test = train_test_split(X, y, test_size=0.2, random_state=101)"
   ]
  },
  {
   "cell_type": "code",
   "execution_count": 78,
   "id": "2a748bf9-9bc5-484b-a481-ce056c8623af",
   "metadata": {},
   "outputs": [
    {
     "data": {
      "text/plain": [
       "GradientBoostingClassifier()"
      ]
     },
     "execution_count": 78,
     "metadata": {},
     "output_type": "execute_result"
    }
   ],
   "source": [
    "model3 = GradientBoostingClassifier()\n",
    "model3.fit(X_train, y_train)"
   ]
  },
  {
   "cell_type": "code",
   "execution_count": 79,
   "id": "668b466f-e137-4b79-9695-0e617095e41c",
   "metadata": {},
   "outputs": [],
   "source": [
    "y_pred3 = model3.predict(X_test)"
   ]
  },
  {
   "cell_type": "code",
   "execution_count": 80,
   "id": "e9939561-849f-4aea-ae0f-b9c348557ebe",
   "metadata": {},
   "outputs": [
    {
     "name": "stdout",
     "output_type": "stream",
     "text": [
      "Accuracy of GraientBoost: 27.26%\n"
     ]
    }
   ],
   "source": [
    "accuracy3 = accuracy_score(y_test, y_pred3)\n",
    "print(f'Accuracy of GraientBoost: {accuracy3*100:.2f}%')"
   ]
  },
  {
   "cell_type": "markdown",
   "id": "2cdc09e3-17c6-4982-bd3e-738f895e5171",
   "metadata": {},
   "source": [
    "Just as i've thought.. Low quality"
   ]
  },
  {
   "cell_type": "markdown",
   "id": "90d06343-4a2e-43ad-bc35-17d7b14eed49",
   "metadata": {},
   "source": [
    "What do we do? <br/> Biased and wrong output model OR poor performance model"
   ]
  },
  {
   "cell_type": "code",
   "execution_count": null,
   "id": "5cc8ecaa-f98f-426c-b0a4-e8a81e80ec9c",
   "metadata": {},
   "outputs": [],
   "source": []
  }
 ],
 "metadata": {
  "kernelspec": {
   "display_name": "Python 3 (ipykernel)",
   "language": "python",
   "name": "python3"
  },
  "language_info": {
   "codemirror_mode": {
    "name": "ipython",
    "version": 3
   },
   "file_extension": ".py",
   "mimetype": "text/x-python",
   "name": "python",
   "nbconvert_exporter": "python",
   "pygments_lexer": "ipython3",
   "version": "3.9.13"
  }
 },
 "nbformat": 4,
 "nbformat_minor": 5
}
